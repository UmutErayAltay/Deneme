{
 "cells": [
  {
   "cell_type": "code",
   "execution_count": 1,
   "metadata": {},
   "outputs": [],
   "source": [
    "import pandas as pd\n",
    "from sklearn.neighbors import KNeighborsClassifier\n",
    "from sklearn.svm import SVC\n",
    "from sklearn.ensemble import RandomForestClassifier\n",
    "from sklearn.metrics import accuracy_score\n",
    "from sklearn.metrics import mean_absolute_error\n",
    "from sklearn.linear_model import LinearRegression\n",
    "import numpy as np\n",
    "from sklearn.model_selection import train_test_split\n",
    "from sklearn.preprocessing import MinMaxScaler\n",
    "from sklearn.preprocessing import PolynomialFeatures\n",
    "from sklearn.linear_model import LogisticRegression\n",
    "from sklearn.linear_model import ElasticNet"
   ]
  },
  {
   "cell_type": "code",
   "execution_count": 2,
   "metadata": {},
   "outputs": [],
   "source": [
    "veri = pd.read_csv(\"zingat4.csv\",header=None)"
   ]
  },
  {
   "cell_type": "code",
   "execution_count": 3,
   "metadata": {},
   "outputs": [],
   "source": [
    "veri = veri.drop([0,5,6], axis=1)"
   ]
  },
  {
   "cell_type": "code",
   "execution_count": 4,
   "metadata": {},
   "outputs": [],
   "source": [
    "veri = veri.drop(0, axis=0)\n",
    "veri = veri.reset_index(level=0, drop=True)"
   ]
  },
  {
   "cell_type": "code",
   "execution_count": 5,
   "metadata": {},
   "outputs": [],
   "source": [
    "for index,değişken in enumerate(veri[7]):\n",
    "    if değişken==\"2\":\n",
    "        veri = veri.drop(index,axis=0)\n",
    "veri = veri.reset_index(level=0, drop=True)"
   ]
  },
  {
   "cell_type": "code",
   "execution_count": 6,
   "metadata": {},
   "outputs": [
    {
     "name": "stderr",
     "output_type": "stream",
     "text": [
      "C:\\Users\\umut6\\AppData\\Local\\Temp\\ipykernel_13640\\1426743761.py:3: SettingWithCopyWarning: \n",
      "A value is trying to be set on a copy of a slice from a DataFrame\n",
      "\n",
      "See the caveats in the documentation: https://pandas.pydata.org/pandas-docs/stable/user_guide/indexing.html#returning-a-view-versus-a-copy\n",
      "  veri[2][i] = veri[2][i].replace(\"M2\",\"\")\n",
      "C:\\Users\\umut6\\AppData\\Local\\Temp\\ipykernel_13640\\1426743761.py:4: SettingWithCopyWarning: \n",
      "A value is trying to be set on a copy of a slice from a DataFrame\n",
      "\n",
      "See the caveats in the documentation: https://pandas.pydata.org/pandas-docs/stable/user_guide/indexing.html#returning-a-view-versus-a-copy\n",
      "  veri[2][i] = veri[2][i].replace(\" \",\"\")\n",
      "C:\\Users\\umut6\\AppData\\Local\\Temp\\ipykernel_13640\\1426743761.py:5: SettingWithCopyWarning: \n",
      "A value is trying to be set on a copy of a slice from a DataFrame\n",
      "\n",
      "See the caveats in the documentation: https://pandas.pydata.org/pandas-docs/stable/user_guide/indexing.html#returning-a-view-versus-a-copy\n",
      "  veri[2][i] = veri[2][i].replace(\".\",\"\")\n",
      "C:\\Users\\umut6\\AppData\\Local\\Temp\\ipykernel_13640\\1426743761.py:6: SettingWithCopyWarning: \n",
      "A value is trying to be set on a copy of a slice from a DataFrame\n",
      "\n",
      "See the caveats in the documentation: https://pandas.pydata.org/pandas-docs/stable/user_guide/indexing.html#returning-a-view-versus-a-copy\n",
      "  veri[2][i] = int(veri[2][i])\n"
     ]
    }
   ],
   "source": [
    "i = 0\n",
    "while( i <= len(veri[2])-1):\n",
    "    veri[2][i] = veri[2][i].replace(\"M2\",\"\")\n",
    "    veri[2][i] = veri[2][i].replace(\" \",\"\")\n",
    "    veri[2][i] = veri[2][i].replace(\".\",\"\")\n",
    "    veri[2][i] = int(veri[2][i])\n",
    "    i += 1\n",
    "for index,değişken in enumerate(veri[2]):\n",
    "    if değişken>1653:\n",
    "        veri = veri.drop(index,axis=0)\n",
    "veri = veri.reset_index(level=0, drop=True)"
   ]
  },
  {
   "cell_type": "code",
   "execution_count": 7,
   "metadata": {},
   "outputs": [
    {
     "name": "stderr",
     "output_type": "stream",
     "text": [
      "C:\\Users\\umut6\\AppData\\Local\\Temp\\ipykernel_13640\\2905418762.py:3: SettingWithCopyWarning: \n",
      "A value is trying to be set on a copy of a slice from a DataFrame\n",
      "\n",
      "See the caveats in the documentation: https://pandas.pydata.org/pandas-docs/stable/user_guide/indexing.html#returning-a-view-versus-a-copy\n",
      "  veri[8][i] = veri[8][i].replace(\"M2\",\"\")\n",
      "C:\\Users\\umut6\\AppData\\Local\\Temp\\ipykernel_13640\\2905418762.py:4: SettingWithCopyWarning: \n",
      "A value is trying to be set on a copy of a slice from a DataFrame\n",
      "\n",
      "See the caveats in the documentation: https://pandas.pydata.org/pandas-docs/stable/user_guide/indexing.html#returning-a-view-versus-a-copy\n",
      "  veri[8][i] = veri[8][i].replace(\" \",\"\")\n",
      "C:\\Users\\umut6\\AppData\\Local\\Temp\\ipykernel_13640\\2905418762.py:5: SettingWithCopyWarning: \n",
      "A value is trying to be set on a copy of a slice from a DataFrame\n",
      "\n",
      "See the caveats in the documentation: https://pandas.pydata.org/pandas-docs/stable/user_guide/indexing.html#returning-a-view-versus-a-copy\n",
      "  veri[8][i] = veri[8][i].replace(\".\",\"\")\n",
      "C:\\Users\\umut6\\AppData\\Local\\Temp\\ipykernel_13640\\2905418762.py:6: SettingWithCopyWarning: \n",
      "A value is trying to be set on a copy of a slice from a DataFrame\n",
      "\n",
      "See the caveats in the documentation: https://pandas.pydata.org/pandas-docs/stable/user_guide/indexing.html#returning-a-view-versus-a-copy\n",
      "  veri[8][i] = int(veri[8][i])\n"
     ]
    }
   ],
   "source": [
    "i = 0\n",
    "while( i <= len(veri[8])-1):\n",
    "    veri[8][i] = veri[8][i].replace(\"M2\",\"\")\n",
    "    veri[8][i] = veri[8][i].replace(\" \",\"\")\n",
    "    veri[8][i] = veri[8][i].replace(\".\",\"\")\n",
    "    veri[8][i] = int(veri[8][i])\n",
    "    i += 1"
   ]
  },
  {
   "cell_type": "code",
   "execution_count": 8,
   "metadata": {},
   "outputs": [
    {
     "name": "stderr",
     "output_type": "stream",
     "text": [
      "C:\\Users\\umut6\\AppData\\Local\\Temp\\ipykernel_13640\\838994572.py:4: SettingWithCopyWarning: \n",
      "A value is trying to be set on a copy of a slice from a DataFrame\n",
      "\n",
      "See the caveats in the documentation: https://pandas.pydata.org/pandas-docs/stable/user_guide/indexing.html#returning-a-view-versus-a-copy\n",
      "  veri[3][i] = 8\n",
      "C:\\Users\\umut6\\AppData\\Local\\Temp\\ipykernel_13640\\838994572.py:10: SettingWithCopyWarning: \n",
      "A value is trying to be set on a copy of a slice from a DataFrame\n",
      "\n",
      "See the caveats in the documentation: https://pandas.pydata.org/pandas-docs/stable/user_guide/indexing.html#returning-a-view-versus-a-copy\n",
      "  veri[3][i] = 0\n",
      "C:\\Users\\umut6\\AppData\\Local\\Temp\\ipykernel_13640\\838994572.py:8: SettingWithCopyWarning: \n",
      "A value is trying to be set on a copy of a slice from a DataFrame\n",
      "\n",
      "See the caveats in the documentation: https://pandas.pydata.org/pandas-docs/stable/user_guide/indexing.html#returning-a-view-versus-a-copy\n",
      "  veri[3][i] = 18\n",
      "C:\\Users\\umut6\\AppData\\Local\\Temp\\ipykernel_13640\\838994572.py:6: SettingWithCopyWarning: \n",
      "A value is trying to be set on a copy of a slice from a DataFrame\n",
      "\n",
      "See the caveats in the documentation: https://pandas.pydata.org/pandas-docs/stable/user_guide/indexing.html#returning-a-view-versus-a-copy\n",
      "  veri[3][i] = 25\n",
      "C:\\Users\\umut6\\AppData\\Local\\Temp\\ipykernel_13640\\838994572.py:12: SettingWithCopyWarning: \n",
      "A value is trying to be set on a copy of a slice from a DataFrame\n",
      "\n",
      "See the caveats in the documentation: https://pandas.pydata.org/pandas-docs/stable/user_guide/indexing.html#returning-a-view-versus-a-copy\n",
      "  veri[3][i] = 13\n",
      "C:\\Users\\umut6\\AppData\\Local\\Temp\\ipykernel_13640\\838994572.py:16: SettingWithCopyWarning: \n",
      "A value is trying to be set on a copy of a slice from a DataFrame\n",
      "\n",
      "See the caveats in the documentation: https://pandas.pydata.org/pandas-docs/stable/user_guide/indexing.html#returning-a-view-versus-a-copy\n",
      "  veri[3][index] = int(veri[3][index])\n"
     ]
    }
   ],
   "source": [
    "i = 0\n",
    "while i<=len(veri[3])-1:\n",
    "    if (veri[3][i] == \"5-10\"):\n",
    "        veri[3][i] = 8\n",
    "    elif veri[3][i] == \"21 Ve Üzeri\":\n",
    "        veri[3][i] = 25\n",
    "    elif veri[3][i] == \"16-20\":\n",
    "        veri[3][i] = 18\n",
    "    elif veri[3][i] == \"0 (Yeni)\":\n",
    "        veri[3][i] = 0\n",
    "    elif veri[3][i] == \"11-15\":\n",
    "        veri[3][i] = 13\n",
    "    i+=1\n",
    "for index,değişken in enumerate(veri[3]):\n",
    "    if type(değişken) == str:\n",
    "        veri[3][index] = int(veri[3][index])"
   ]
  },
  {
   "cell_type": "code",
   "execution_count": 9,
   "metadata": {
    "scrolled": true
   },
   "outputs": [
    {
     "name": "stderr",
     "output_type": "stream",
     "text": [
      "C:\\Users\\umut6\\AppData\\Local\\Temp\\ipykernel_13640\\330566514.py:7: SettingWithCopyWarning: \n",
      "A value is trying to be set on a copy of a slice from a DataFrame\n",
      "\n",
      "See the caveats in the documentation: https://pandas.pydata.org/pandas-docs/stable/user_guide/indexing.html#returning-a-view-versus-a-copy\n",
      "  veri[9][index] = 3\n",
      "C:\\Users\\umut6\\AppData\\Local\\Temp\\ipykernel_13640\\330566514.py:15: SettingWithCopyWarning: \n",
      "A value is trying to be set on a copy of a slice from a DataFrame\n",
      "\n",
      "See the caveats in the documentation: https://pandas.pydata.org/pandas-docs/stable/user_guide/indexing.html#returning-a-view-versus-a-copy\n",
      "  veri[9][index] = 6\n",
      "C:\\Users\\umut6\\AppData\\Local\\Temp\\ipykernel_13640\\330566514.py:5: SettingWithCopyWarning: \n",
      "A value is trying to be set on a copy of a slice from a DataFrame\n",
      "\n",
      "See the caveats in the documentation: https://pandas.pydata.org/pandas-docs/stable/user_guide/indexing.html#returning-a-view-versus-a-copy\n",
      "  veri[9][index] = 4\n",
      "C:\\Users\\umut6\\AppData\\Local\\Temp\\ipykernel_13640\\330566514.py:11: SettingWithCopyWarning: \n",
      "A value is trying to be set on a copy of a slice from a DataFrame\n",
      "\n",
      "See the caveats in the documentation: https://pandas.pydata.org/pandas-docs/stable/user_guide/indexing.html#returning-a-view-versus-a-copy\n",
      "  veri[9][index] = 2\n",
      "C:\\Users\\umut6\\AppData\\Local\\Temp\\ipykernel_13640\\330566514.py:13: SettingWithCopyWarning: \n",
      "A value is trying to be set on a copy of a slice from a DataFrame\n",
      "\n",
      "See the caveats in the documentation: https://pandas.pydata.org/pandas-docs/stable/user_guide/indexing.html#returning-a-view-versus-a-copy\n",
      "  veri[9][index] = 5\n",
      "C:\\Users\\umut6\\AppData\\Local\\Temp\\ipykernel_13640\\330566514.py:17: SettingWithCopyWarning: \n",
      "A value is trying to be set on a copy of a slice from a DataFrame\n",
      "\n",
      "See the caveats in the documentation: https://pandas.pydata.org/pandas-docs/stable/user_guide/indexing.html#returning-a-view-versus-a-copy\n",
      "  veri[9][index] = 7\n",
      "C:\\Users\\umut6\\AppData\\Local\\Temp\\ipykernel_13640\\330566514.py:21: SettingWithCopyWarning: \n",
      "A value is trying to be set on a copy of a slice from a DataFrame\n",
      "\n",
      "See the caveats in the documentation: https://pandas.pydata.org/pandas-docs/stable/user_guide/indexing.html#returning-a-view-versus-a-copy\n",
      "  veri[9][index] = 9\n",
      "C:\\Users\\umut6\\AppData\\Local\\Temp\\ipykernel_13640\\330566514.py:19: SettingWithCopyWarning: \n",
      "A value is trying to be set on a copy of a slice from a DataFrame\n",
      "\n",
      "See the caveats in the documentation: https://pandas.pydata.org/pandas-docs/stable/user_guide/indexing.html#returning-a-view-versus-a-copy\n",
      "  veri[9][index] = 8\n",
      "C:\\Users\\umut6\\AppData\\Local\\Temp\\ipykernel_13640\\330566514.py:9: SettingWithCopyWarning: \n",
      "A value is trying to be set on a copy of a slice from a DataFrame\n",
      "\n",
      "See the caveats in the documentation: https://pandas.pydata.org/pandas-docs/stable/user_guide/indexing.html#returning-a-view-versus-a-copy\n",
      "  veri[9][index] = 1\n",
      "C:\\Users\\umut6\\AppData\\Local\\Temp\\ipykernel_13640\\330566514.py:3: SettingWithCopyWarning: \n",
      "A value is trying to be set on a copy of a slice from a DataFrame\n",
      "\n",
      "See the caveats in the documentation: https://pandas.pydata.org/pandas-docs/stable/user_guide/indexing.html#returning-a-view-versus-a-copy\n",
      "  veri[9][index] = 10\n"
     ]
    }
   ],
   "source": [
    "for index,değişken in enumerate(veri[9]):\n",
    "    if veri[9][index] == \"8+ Oda\":\n",
    "        veri[9][index] = 10\n",
    "    elif veri[9][index] == \"3+1\" or veri[9][index] == \"2+2\" or veri[9][index] == \"2.5+1\" :\n",
    "        veri[9][index] = 4\n",
    "    elif veri[9][index] == \"2+1\" or veri[9][index] == \"1.5+1\":\n",
    "        veri[9][index] = 3\n",
    "    elif veri[9][index] == \"1 Oda\" or veri[9][index] == \"Stüdyo\":\n",
    "        veri[9][index] = 1\n",
    "    elif veri[9][index] == \"1+1\" or veri[9][index] == \"2+0\":\n",
    "        veri[9][index] = 2\n",
    "    elif veri[9][index] == \"4+1\" or veri[9][index] == \"3+2\" or veri[9][index] == \"3.5+1\":\n",
    "        veri[9][index] = 5\n",
    "    elif veri[9][index] == \"4+2\" or veri[9][index] == \"5+1\" or veri[9][index] == \"4.5+1\":\n",
    "        veri[9][index] = 6\n",
    "    elif veri[9][index] == \"5+2\" or veri[9][index] == \"6+1\":\n",
    "        veri[9][index] = 7\n",
    "    elif veri[9][index] == \"5+3\" or veri[9][index] == \"7+1\" or veri[9][index] == \"6+2\":\n",
    "        veri[9][index] = 8\n",
    "    elif veri[9][index] == \"6+3\":\n",
    "        veri[9][index] = 9\n",
    "    elif type(değişken) == str:\n",
    "        veri = veri.drop(index, axis=0)\n",
    "veri = veri.reset_index(level=0, drop=True)"
   ]
  },
  {
   "cell_type": "code",
   "execution_count": 10,
   "metadata": {},
   "outputs": [
    {
     "name": "stderr",
     "output_type": "stream",
     "text": [
      "C:\\Users\\umut6\\AppData\\Local\\Temp\\ipykernel_13640\\2399872760.py:3: SettingWithCopyWarning: \n",
      "A value is trying to be set on a copy of a slice from a DataFrame\n",
      "\n",
      "See the caveats in the documentation: https://pandas.pydata.org/pandas-docs/stable/user_guide/indexing.html#returning-a-view-versus-a-copy\n",
      "  veri[10][i] = veri[10][i].replace(\".Kat\",\"\")\n",
      "C:\\Users\\umut6\\AppData\\Local\\Temp\\ipykernel_13640\\2399872760.py:11: SettingWithCopyWarning: \n",
      "A value is trying to be set on a copy of a slice from a DataFrame\n",
      "\n",
      "See the caveats in the documentation: https://pandas.pydata.org/pandas-docs/stable/user_guide/indexing.html#returning-a-view-versus-a-copy\n",
      "  veri[10][i] = 1\n",
      "C:\\Users\\umut6\\AppData\\Local\\Temp\\ipykernel_13640\\2399872760.py:5: SettingWithCopyWarning: \n",
      "A value is trying to be set on a copy of a slice from a DataFrame\n",
      "\n",
      "See the caveats in the documentation: https://pandas.pydata.org/pandas-docs/stable/user_guide/indexing.html#returning-a-view-versus-a-copy\n",
      "  veri[10][i] = -1\n",
      "C:\\Users\\umut6\\AppData\\Local\\Temp\\ipykernel_13640\\2399872760.py:7: SettingWithCopyWarning: \n",
      "A value is trying to be set on a copy of a slice from a DataFrame\n",
      "\n",
      "See the caveats in the documentation: https://pandas.pydata.org/pandas-docs/stable/user_guide/indexing.html#returning-a-view-versus-a-copy\n",
      "  veri[10][i] = -3\n",
      "C:\\Users\\umut6\\AppData\\Local\\Temp\\ipykernel_13640\\2399872760.py:13: SettingWithCopyWarning: \n",
      "A value is trying to be set on a copy of a slice from a DataFrame\n",
      "\n",
      "See the caveats in the documentation: https://pandas.pydata.org/pandas-docs/stable/user_guide/indexing.html#returning-a-view-versus-a-copy\n",
      "  veri[10][i] = 15\n",
      "C:\\Users\\umut6\\AppData\\Local\\Temp\\ipykernel_13640\\2399872760.py:9: SettingWithCopyWarning: \n",
      "A value is trying to be set on a copy of a slice from a DataFrame\n",
      "\n",
      "See the caveats in the documentation: https://pandas.pydata.org/pandas-docs/stable/user_guide/indexing.html#returning-a-view-versus-a-copy\n",
      "  veri[10][i] = -2\n"
     ]
    }
   ],
   "source": [
    "i = 0\n",
    "while( i <= len(veri[10])-1):\n",
    "    veri[10][i] = veri[10][i].replace(\".Kat\",\"\")\n",
    "    if veri[10][i] == \"Kot 1 (-1)\" or veri[10][i] == \"Tam Bodrum\" or veri[10][i] == \"Yüksek Bodrum\" or veri[10][i] == \"Yarı Bodrum\":\n",
    "        veri[10][i] = -1\n",
    "    elif veri[10][i] == \"Kot 3 (-3)\":\n",
    "        veri[10][i] = -3\n",
    "    elif veri[10][i] == \"Kot 2 (-2)\":\n",
    "        veri[10][i] = -2\n",
    "    elif veri[10][i] == \"Bahçe Katı\" or veri[10][i] == \"Yüksek Giriş\" or veri[10][i] == \"Düz Giriş\":\n",
    "        veri[10][i] = 1\n",
    "    elif veri[10][i] == \"10-20\":\n",
    "        veri[10][i] = 15\n",
    "    elif veri[10][i] == \"Konut\":\n",
    "        veri = veri.drop(i,axis=0)\n",
    "    i += 1\n",
    "veri = veri.reset_index(level=0, drop=True)"
   ]
  },
  {
   "cell_type": "code",
   "execution_count": 11,
   "metadata": {},
   "outputs": [
    {
     "name": "stderr",
     "output_type": "stream",
     "text": [
      "C:\\Users\\umut6\\AppData\\Local\\Temp\\ipykernel_13640\\2864122944.py:12: SettingWithCopyWarning: \n",
      "A value is trying to be set on a copy of a slice from a DataFrame\n",
      "\n",
      "See the caveats in the documentation: https://pandas.pydata.org/pandas-docs/stable/user_guide/indexing.html#returning-a-view-versus-a-copy\n",
      "  veri[7][index] = \"Dubleks\"\n",
      "C:\\Users\\umut6\\AppData\\Local\\Temp\\ipykernel_13640\\2864122944.py:13: SettingWithCopyWarning: \n",
      "A value is trying to be set on a copy of a slice from a DataFrame\n",
      "\n",
      "See the caveats in the documentation: https://pandas.pydata.org/pandas-docs/stable/user_guide/indexing.html#returning-a-view-versus-a-copy\n",
      "  veri[10][index] = 1\n",
      "C:\\Users\\umut6\\AppData\\Local\\Temp\\ipykernel_13640\\2864122944.py:9: SettingWithCopyWarning: \n",
      "A value is trying to be set on a copy of a slice from a DataFrame\n",
      "\n",
      "See the caveats in the documentation: https://pandas.pydata.org/pandas-docs/stable/user_guide/indexing.html#returning-a-view-versus-a-copy\n",
      "  veri[7][index] = \"Müstakil\"\n",
      "C:\\Users\\umut6\\AppData\\Local\\Temp\\ipykernel_13640\\2864122944.py:10: SettingWithCopyWarning: \n",
      "A value is trying to be set on a copy of a slice from a DataFrame\n",
      "\n",
      "See the caveats in the documentation: https://pandas.pydata.org/pandas-docs/stable/user_guide/indexing.html#returning-a-view-versus-a-copy\n",
      "  veri[10][index] = 1\n",
      "C:\\Users\\umut6\\AppData\\Local\\Temp\\ipykernel_13640\\2864122944.py:3: SettingWithCopyWarning: \n",
      "A value is trying to be set on a copy of a slice from a DataFrame\n",
      "\n",
      "See the caveats in the documentation: https://pandas.pydata.org/pandas-docs/stable/user_guide/indexing.html#returning-a-view-versus-a-copy\n",
      "  veri[7][index] = \"Dubleks\"\n",
      "C:\\Users\\umut6\\AppData\\Local\\Temp\\ipykernel_13640\\2864122944.py:4: SettingWithCopyWarning: \n",
      "A value is trying to be set on a copy of a slice from a DataFrame\n",
      "\n",
      "See the caveats in the documentation: https://pandas.pydata.org/pandas-docs/stable/user_guide/indexing.html#returning-a-view-versus-a-copy\n",
      "  veri[10][index] = 1\n",
      "C:\\Users\\umut6\\AppData\\Local\\Temp\\ipykernel_13640\\2864122944.py:6: SettingWithCopyWarning: \n",
      "A value is trying to be set on a copy of a slice from a DataFrame\n",
      "\n",
      "See the caveats in the documentation: https://pandas.pydata.org/pandas-docs/stable/user_guide/indexing.html#returning-a-view-versus-a-copy\n",
      "  veri[7][index] = \"Villa\"\n",
      "C:\\Users\\umut6\\AppData\\Local\\Temp\\ipykernel_13640\\2864122944.py:7: SettingWithCopyWarning: \n",
      "A value is trying to be set on a copy of a slice from a DataFrame\n",
      "\n",
      "See the caveats in the documentation: https://pandas.pydata.org/pandas-docs/stable/user_guide/indexing.html#returning-a-view-versus-a-copy\n",
      "  veri[10][index] = 1\n"
     ]
    }
   ],
   "source": [
    "for index,değişken in enumerate(veri[10]):\n",
    "    if değişken == \"Çatı Dubleks\":\n",
    "        veri[7][index] = \"Dubleks\"\n",
    "        veri[10][index] = 1\n",
    "    elif değişken == \"Villa Tipi\":\n",
    "        veri[7][index] = \"Villa\"\n",
    "        veri[10][index] = 1\n",
    "    elif değişken == \"Müstakil\":\n",
    "        veri[7][index] = \"Müstakil\"\n",
    "        veri[10][index] = 1\n",
    "    elif değişken == \"Bahçe Dublex\":\n",
    "        veri[7][index] = \"Dubleks\"\n",
    "        veri[10][index] = 1\n",
    "    elif değişken == \"Çatı Katı\":\n",
    "        veri = veri.drop(index,axis=0)\n",
    "veri = veri.reset_index(level=0, drop=True)"
   ]
  },
  {
   "cell_type": "code",
   "execution_count": 12,
   "metadata": {},
   "outputs": [],
   "source": [
    "veri = veri.reset_index(level=0, drop=True)"
   ]
  },
  {
   "cell_type": "code",
   "execution_count": 13,
   "metadata": {},
   "outputs": [],
   "source": [
    "for indexi,değişken in enumerate(veri[3]):\n",
    "    if (type(değişken)==str):\n",
    "        veri = veri.drop(indexi,axis=0)\n",
    "veri = veri.reset_index(level=0, drop=True)"
   ]
  },
  {
   "cell_type": "code",
   "execution_count": 14,
   "metadata": {},
   "outputs": [],
   "source": [
    "veri = veri.reset_index(level=0, drop=True)"
   ]
  },
  {
   "cell_type": "code",
   "execution_count": 15,
   "metadata": {},
   "outputs": [
    {
     "name": "stdout",
     "output_type": "stream",
     "text": [
      "292\n"
     ]
    },
    {
     "name": "stderr",
     "output_type": "stream",
     "text": [
      "C:\\Users\\umut6\\AppData\\Local\\Temp\\ipykernel_13640\\381153714.py:17: SettingWithCopyWarning: \n",
      "A value is trying to be set on a copy of a slice from a DataFrame\n",
      "\n",
      "See the caveats in the documentation: https://pandas.pydata.org/pandas-docs/stable/user_guide/indexing.html#returning-a-view-versus-a-copy\n",
      "  veri[4][index] = int(veri[4][index])\n"
     ]
    }
   ],
   "source": [
    "veri[4].unique()\n",
    "for index,değişken in enumerate(veri[4]):\n",
    "    if değişken == \"Sobalı\":\n",
    "        veri = veri.drop(index,axis=0)\n",
    "    elif değişken == \"Kombi Doğalgaz\":\n",
    "        veri = veri.drop(index,axis=0)\n",
    "    elif değişken == \"Isıtma Yok\":\n",
    "        veri = veri.drop(index,axis=0)\n",
    "    elif değişken == \"Doğalgaz Sobalı\":\n",
    "        veri = veri.drop(index,axis=0)\n",
    "    elif değişken == \"Kombi Fueloil\":\n",
    "        print(index)\n",
    "        veri = veri.drop(index,axis=0)\n",
    "veri = veri.reset_index(level=0, drop=True)\n",
    "for index,değişken in enumerate(veri[4]):\n",
    "    if type(değişken)==str:\n",
    "        veri[4][index] = int(veri[4][index])\n",
    "veri = veri.reset_index(level=0, drop=True)"
   ]
  },
  {
   "cell_type": "code",
   "execution_count": 16,
   "metadata": {},
   "outputs": [],
   "source": [
    "nlist = [2,3,4,8,9,10]\n",
    "for i in nlist:\n",
    "    mms = MinMaxScaler()\n",
    "    veri[i] =  mms.fit_transform(veri[i].values.reshape(-1,1))"
   ]
  },
  {
   "cell_type": "code",
   "execution_count": 17,
   "metadata": {},
   "outputs": [],
   "source": [
    "veri1 = pd.get_dummies(veri[7])\n",
    "veri1 = pd.get_dummies(veri[11])\n",
    "veri = veri.drop([7,11],axis=1)\n",
    "dataFrame = pd.concat([veri,veri1], axis=1)"
   ]
  },
  {
   "cell_type": "code",
   "execution_count": 18,
   "metadata": {},
   "outputs": [],
   "source": [
    "x = dataFrame.drop(1, axis=1)\n",
    "y = dataFrame[1]"
   ]
  },
  {
   "cell_type": "code",
   "execution_count": 25,
   "metadata": {},
   "outputs": [],
   "source": [
    "trainX, testX, trainY, testY = train_test_split(x,y, train_size=0.7)"
   ]
  },
  {
   "cell_type": "code",
   "execution_count": 26,
   "metadata": {},
   "outputs": [
    {
     "name": "stderr",
     "output_type": "stream",
     "text": [
      "C:\\Users\\umut6\\anaconda4\\lib\\site-packages\\sklearn\\utils\\validation.py:1673: FutureWarning: Feature names only support names that are all strings. Got feature names with dtypes: ['int', 'str']. An error will be raised in 1.2.\n",
      "  warnings.warn(\n",
      "C:\\Users\\umut6\\anaconda4\\lib\\site-packages\\sklearn\\utils\\validation.py:1673: FutureWarning: Feature names only support names that are all strings. Got feature names with dtypes: ['int', 'str']. An error will be raised in 1.2.\n",
      "  warnings.warn(\n"
     ]
    },
    {
     "data": {
      "text/plain": [
       "669208.9947368421"
      ]
     },
     "execution_count": 26,
     "metadata": {},
     "output_type": "execute_result"
    }
   ],
   "source": [
    "lr = LinearRegression()\n",
    "lr.fit(trainX,trainY)\n",
    "y_lineer = lr.predict(testX)\n",
    "mean_absolute_error(np.int32(y_lineer),np.int32(testY))"
   ]
  },
  {
   "cell_type": "code",
   "execution_count": 28,
   "metadata": {},
   "outputs": [
    {
     "name": "stdout",
     "output_type": "stream",
     "text": [
      "doğruluk oranı: 63.279666282937356\n"
     ]
    }
   ],
   "source": [
    "print(\"doğruluk oranı:\",100-sum(abs((np.int32(y_lineer)-np.int32(testY)))/np.int32(testY))/len(testY)*100)"
   ]
  },
  {
   "cell_type": "code",
   "execution_count": null,
   "metadata": {},
   "outputs": [],
   "source": []
  }
 ],
 "metadata": {
  "kernelspec": {
   "display_name": "Python 3 (ipykernel)",
   "language": "python",
   "name": "python3"
  },
  "language_info": {
   "codemirror_mode": {
    "name": "ipython",
    "version": 3
   },
   "file_extension": ".py",
   "mimetype": "text/x-python",
   "name": "python",
   "nbconvert_exporter": "python",
   "pygments_lexer": "ipython3",
   "version": "3.9.12"
  },
  "vscode": {
   "interpreter": {
    "hash": "7797006c905ada28097d3a18a9d5831bdf6f7cedac95eb8fe18903a34d9e5691"
   }
  }
 },
 "nbformat": 4,
 "nbformat_minor": 2
}
