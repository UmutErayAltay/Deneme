{
  "nbformat": 4,
  "nbformat_minor": 0,
  "metadata": {
    "colab": {
      "provenance": [],
      "authorship_tag": "ABX9TyOlK1LAEyHO8AjI/Tt6cQlk",
      "include_colab_link": true
    },
    "kernelspec": {
      "name": "python3",
      "display_name": "Python 3"
    },
    "language_info": {
      "name": "python"
    }
  },
  "cells": [
    {
      "cell_type": "markdown",
      "metadata": {
        "id": "view-in-github",
        "colab_type": "text"
      },
      "source": [
        "<a href=\"https://colab.research.google.com/github/UmutErayAltay/Ev_Fiyat_Tahmin/blob/main/selenium_ev_verisi_g%C3%BCncel.ipynb\" target=\"_parent\"><img src=\"https://colab.research.google.com/assets/colab-badge.svg\" alt=\"Open In Colab\"/></a>"
      ]
    },
    {
      "cell_type": "code",
      "source": [
        "!pip install selenium\n",
        "!apt—get update\n",
        "!apt—get Install —y chromium—browger\n",
        "!apt install chromium-chromedriver"
      ],
      "metadata": {
        "colab": {
          "base_uri": "https://localhost:8080/"
        },
        "id": "TCVpjEZ9Jd0n",
        "outputId": "6e1fa931-033e-492d-e3ce-717289ee60b6"
      },
      "execution_count": null,
      "outputs": [
        {
          "output_type": "stream",
          "name": "stdout",
          "text": [
            "Collecting selenium\n",
            "  Downloading selenium-4.15.2-py3-none-any.whl (10.2 MB)\n",
            "\u001b[2K     \u001b[90m━━━━━━━━━━━━━━━━━━━━━━━━━━━━━━━━━━━━━━━━\u001b[0m \u001b[32m10.2/10.2 MB\u001b[0m \u001b[31m22.7 MB/s\u001b[0m eta \u001b[36m0:00:00\u001b[0m\n",
            "\u001b[?25hRequirement already satisfied: urllib3[socks]<3,>=1.26 in /usr/local/lib/python3.10/dist-packages (from selenium) (2.0.7)\n",
            "Collecting trio~=0.17 (from selenium)\n",
            "  Downloading trio-0.23.1-py3-none-any.whl (448 kB)\n",
            "\u001b[2K     \u001b[90m━━━━━━━━━━━━━━━━━━━━━━━━━━━━━━━━━━━━━━━━\u001b[0m \u001b[32m448.3/448.3 kB\u001b[0m \u001b[31m40.4 MB/s\u001b[0m eta \u001b[36m0:00:00\u001b[0m\n",
            "\u001b[?25hCollecting trio-websocket~=0.9 (from selenium)\n",
            "  Downloading trio_websocket-0.11.1-py3-none-any.whl (17 kB)\n",
            "Requirement already satisfied: certifi>=2021.10.8 in /usr/local/lib/python3.10/dist-packages (from selenium) (2023.7.22)\n",
            "Requirement already satisfied: attrs>=20.1.0 in /usr/local/lib/python3.10/dist-packages (from trio~=0.17->selenium) (23.1.0)\n",
            "Requirement already satisfied: sortedcontainers in /usr/local/lib/python3.10/dist-packages (from trio~=0.17->selenium) (2.4.0)\n",
            "Requirement already satisfied: idna in /usr/local/lib/python3.10/dist-packages (from trio~=0.17->selenium) (3.4)\n",
            "Collecting outcome (from trio~=0.17->selenium)\n",
            "  Downloading outcome-1.3.0.post0-py2.py3-none-any.whl (10 kB)\n",
            "Requirement already satisfied: sniffio>=1.3.0 in /usr/local/lib/python3.10/dist-packages (from trio~=0.17->selenium) (1.3.0)\n",
            "Requirement already satisfied: exceptiongroup>=1.0.0rc9 in /usr/local/lib/python3.10/dist-packages (from trio~=0.17->selenium) (1.1.3)\n",
            "Collecting wsproto>=0.14 (from trio-websocket~=0.9->selenium)\n",
            "  Downloading wsproto-1.2.0-py3-none-any.whl (24 kB)\n",
            "Requirement already satisfied: pysocks!=1.5.7,<2.0,>=1.5.6 in /usr/local/lib/python3.10/dist-packages (from urllib3[socks]<3,>=1.26->selenium) (1.7.1)\n",
            "Collecting h11<1,>=0.9.0 (from wsproto>=0.14->trio-websocket~=0.9->selenium)\n",
            "  Downloading h11-0.14.0-py3-none-any.whl (58 kB)\n",
            "\u001b[2K     \u001b[90m━━━━━━━━━━━━━━━━━━━━━━━━━━━━━━━━━━━━━━━━\u001b[0m \u001b[32m58.3/58.3 kB\u001b[0m \u001b[31m7.0 MB/s\u001b[0m eta \u001b[36m0:00:00\u001b[0m\n",
            "\u001b[?25hInstalling collected packages: outcome, h11, wsproto, trio, trio-websocket, selenium\n",
            "Successfully installed h11-0.14.0 outcome-1.3.0.post0 selenium-4.15.2 trio-0.23.1 trio-websocket-0.11.1 wsproto-1.2.0\n",
            "/bin/bash: line 1: apt—get: command not found\n",
            "/bin/bash: line 1: apt—get: command not found\n",
            "Reading package lists... Done\n",
            "Building dependency tree... Done\n",
            "Reading state information... Done\n",
            "The following additional packages will be installed:\n",
            "  apparmor chromium-browser libfuse3-3 liblzo2-2 libudev1 snapd squashfs-tools systemd-hwe-hwdb\n",
            "  udev\n",
            "Suggested packages:\n",
            "  apparmor-profiles-extra apparmor-utils fuse3 zenity | kdialog\n",
            "The following NEW packages will be installed:\n",
            "  apparmor chromium-browser chromium-chromedriver libfuse3-3 liblzo2-2 snapd squashfs-tools\n",
            "  systemd-hwe-hwdb udev\n",
            "The following packages will be upgraded:\n",
            "  libudev1\n",
            "1 upgraded, 9 newly installed, 0 to remove and 9 not upgraded.\n",
            "Need to get 26.4 MB of archives.\n",
            "After this operation, 116 MB of additional disk space will be used.\n",
            "Err:1 http://archive.ubuntu.com/ubuntu jammy-updates/main amd64 apparmor amd64 3.0.4-2ubuntu2.2\n",
            "  404  Not Found [IP: 91.189.91.83 80]\n",
            "Get:2 http://archive.ubuntu.com/ubuntu jammy/main amd64 liblzo2-2 amd64 2.10-2build3 [53.7 kB]\n",
            "Get:3 http://archive.ubuntu.com/ubuntu jammy/main amd64 squashfs-tools amd64 1:4.5-3build1 [159 kB]\n",
            "Get:4 http://archive.ubuntu.com/ubuntu jammy-updates/main amd64 libudev1 amd64 249.11-0ubuntu3.11 [78.0 kB]\n",
            "Get:5 http://archive.ubuntu.com/ubuntu jammy-updates/main amd64 udev amd64 249.11-0ubuntu3.11 [1,557 kB]\n",
            "Get:6 http://archive.ubuntu.com/ubuntu jammy/main amd64 libfuse3-3 amd64 3.10.5-1build1 [81.2 kB]\n",
            "Get:7 http://archive.ubuntu.com/ubuntu jammy-updates/main amd64 snapd amd64 2.58+22.04.1 [23.8 MB]\n",
            "Get:8 http://archive.ubuntu.com/ubuntu jammy-updates/universe amd64 chromium-browser amd64 1:85.0.4183.83-0ubuntu2.22.04.1 [49.2 kB]\n",
            "Get:9 http://archive.ubuntu.com/ubuntu jammy-updates/universe amd64 chromium-chromedriver amd64 1:85.0.4183.83-0ubuntu2.22.04.1 [2,308 B]\n",
            "Get:10 http://archive.ubuntu.com/ubuntu jammy-updates/main amd64 systemd-hwe-hwdb all 249.11.3 [2,908 B]\n",
            "Fetched 25.8 MB in 1s (20.1 MB/s)\n",
            "\u001b[1;31mE: \u001b[0mFailed to fetch http://archive.ubuntu.com/ubuntu/pool/main/a/apparmor/apparmor_3.0.4-2ubuntu2.2_amd64.deb  404  Not Found [IP: 91.189.91.83 80]\u001b[0m\n",
            "\u001b[1;31mE: \u001b[0mUnable to fetch some archives, maybe run apt-get update or try with --fix-missing?\u001b[0m\n"
          ]
        }
      ]
    },
    {
      "cell_type": "code",
      "source": [
        "from selenium import webdriver\n",
        "import time\n",
        "import pandas as pd\n",
        "import os"
      ],
      "metadata": {
        "id": "U9Y9PZeCJo6y"
      },
      "execution_count": null,
      "outputs": []
    },
    {
      "cell_type": "code",
      "source": [
        "!ls /usr/lib/chromium-browser/chromedriver"
      ],
      "metadata": {
        "colab": {
          "base_uri": "https://localhost:8080/"
        },
        "id": "T5BLlGRTKHXt",
        "outputId": "dda3274f-3092-4ca8-b44c-ab90f6068323"
      },
      "execution_count": null,
      "outputs": [
        {
          "output_type": "stream",
          "name": "stdout",
          "text": [
            "ls: cannot access '/usr/lib/chromium-browser/chromedriver': No such file or directory\n"
          ]
        }
      ]
    },
    {
      "cell_type": "code",
      "source": [
        "def Veri_çekme(i,url):\n",
        "  try:\n",
        "    birinci_özellikler = []\n",
        "    ikinci_özellikler = []\n",
        "    fiyat = []\n",
        "    tikla = driver.find_element(\"xpath\",'//*[@id=\"listing-search-wrapper\"]/div['+str(i)+']')\n",
        "    i += 1\n",
        "    tikla.click()\n",
        "    element = driver.find_element('xpath', '//*[@id=\"bilgiler\"]/div/div[2]/div/div[2]/span')\n",
        "    driver.execute_script(\"arguments[0].click();\", element)\n",
        "    elements = driver.find_elements(\"css selector\", '._2HQCBI')\n",
        "    fiyatlar = driver.find_elements(\"css selector\", '._2TxNQv')\n",
        "    sayaç = 1\n",
        "    for j in elements:\n",
        "        if sayaç%2 == 1:\n",
        "          birinci_özellikler.append(j.text)\n",
        "          birinci_özellikler.append(\"\\n\")\n",
        "        else:\n",
        "          ikinci_özellikler.append(j.text)\n",
        "        sayaç+=1\n",
        "    toplu_dizi = birinci_özellikler + ikinci_özellikler\n",
        "\n",
        "    for j in fiyatlar:\n",
        "        fiyat.append(j.text)\n",
        "    element = driver.find_elements(\"css selector\", '._3VQ1JB')\n",
        "    toplu_dizi.append(\"\\nKonum\\n\")\n",
        "    konumlar = [\"Osmangazi\", \"Nilüfer\", \"Yıldırım\", \"Büyükorhan\", \"Gemlik\", \"Gürsu\", \"Harmancık\", \"İnegöl\",\n",
        "\"İznik\", \"Karacabey\", \"Keles\", \"Kestel\", \"Mudanya\", \"Mustafakemalpaşa\",\"Orhaneli\",\"Orhangazi\", \"Yenişehir\"]\n",
        "    for j in konumlar:\n",
        "        if element[0].text.find(j) != -1:\n",
        "            toplu_dizi.append(j)\n",
        "    fiyat_sade = fiyat[1].strip()\n",
        "    fiyat_sade = fiyat_sade.replace(\"TL\",\"\")\n",
        "    fiyat_sade = fiyat_sade.replace(\".\",\"\")\n",
        "    fiyat_sade = fiyat_sade.replace(\",\",\"\")\n",
        "    for i in range(100):\n",
        "        if fiyat_sade.find(\"arrow_downward%\"+i.__str__())!=-1 or fiyat_sade.find(\"arrow_upward%\"+i.__str__())!=-1:\n",
        "            fiyat_sade = fiyat_sade.replace(\"arrow_downward%\"+i.__str__(),\"\")\n",
        "            fiyat_sade = fiyat_sade.replace(\"arrow_upward%\"+i.__str__(),\"\")\n",
        "    fiyat_sade = int(fiyat_sade)\n",
        "\n",
        "    içerikler = []\n",
        "    içerikler.append([fiyat_sade])\n",
        "    det_str = listToString(toplu_dizi)\n",
        "    ayrı = det_str.split(\"\\n\")\n",
        "\n",
        "    başlıklar = []\n",
        "    özellikler = []\n",
        "    sayaç = 1\n",
        "    for i in ayrı:\n",
        "      if sayaç%2==1:\n",
        "        başlıklar.append(i)\n",
        "      else:\n",
        "        özellikler.append(i)\n",
        "      sayaç+=1\n",
        "    başlıklar.append(\"Fiyat\")\n",
        "    özellikler.append(fiyat_sade)\n",
        "\n",
        "    ev_df = pd.DataFrame(columns=[\"İlan Numarası\", \"İlan Güncelleme Tarihi\", \"Kategorisi\", \"Net Metrekare\",\n",
        "                              \"Oda Sayısı\", \"Bulunduğu Kat\", \"Isıtma Tipi\", \"Krediye Uygunluk\", \"Yapı Tipi\", \"Takas\",\n",
        "                              \"Yapı Durumu\", \"Site İçerisinde\", \"Banyo Sayısı\", \"Balkon Sayısı\",\"İpotek Durumu\", 'Kira Getirisi',\n",
        "                              \"Fiyat Durumu\", ' İlan Oluşturma Tarihi', \"Türü\", \"Tipi\", \"WC Metrekare\", \"Aidat\",\n",
        "                              \"Brüt Metrekare\", \"Binanın Yaşı\", \"Binanın Kat Sayısı\", \"Kullanım Durumu\", \"Balkon Metrekare\", \"Banyo Metrekare\",\n",
        "                              \"Yatırıma Uygunluk\", \"Tapu Durumu\", \"Eşya Durumu\", \"Balkon Durumu\", \"Balkon Tipi\", \"Görüntülü Gezilebilir Mi?\",\n",
        "                              \"WC Sayısı\", \"Konum\", \"Fiyat\"])\n",
        "    # Ev verilerini sırayla işle\n",
        "    for i in range(len(başlıklar)):\n",
        "        # Gelen ev başlığı\n",
        "        ev_başlığı = başlıklar[i]\n",
        "\n",
        "        # Gelen ev özelliği\n",
        "        ev_özelliği = özellikler[i]\n",
        "\n",
        "        # Başlık uyumunu kontrol et\n",
        "        if ev_başlığı in ev_df.columns:\n",
        "            # Başlık uyumu varsa, ilgili başlık altındaki özelliği ekle\n",
        "            ev_df.at[0, ev_başlığı] = ev_özelliği\n",
        "        else:\n",
        "          pass\n",
        "\n",
        "    # DataFrame'i göster\n",
        "    driver.execute_script(\"window.history.go(-1)\")\n",
        "    if not os.path.isfile(\"ev_verileri.csv\"):\n",
        "      # Dosya zaten varsa yeniden oluşturmaya gerek yok\n",
        "      ev_df.to_csv(\"ev_verileri.csv\", encoding=\"utf-8\", index=False)\n",
        "    else:\n",
        "        # Dosya henüz oluşturulmamışsa, mode=\"a\" kullanarak append et\n",
        "        ev_df.to_csv(\"ev_verileri.csv\", encoding=\"utf-8\", index=False, mode=\"a\", header=False)\n",
        "  except:\n",
        "    url_in = driver.current_url\n",
        "    print(i,\"Hatalı\")\n",
        "    driver.execute_script(\"window.history.go(-1)\")\n",
        "    if url_in != url:\n",
        "        driver.get(url)"
      ],
      "metadata": {
        "id": "y355ZszAL1oo"
      },
      "execution_count": null,
      "outputs": []
    },
    {
      "cell_type": "code",
      "source": [
        "def listToString(s):\n",
        "    # initialize an empty string\n",
        "    str1 = \" \"\n",
        "    # return string\n",
        "    return (str1.join(s))"
      ],
      "metadata": {
        "id": "OPxhU07GUqAy"
      },
      "execution_count": null,
      "outputs": []
    },
    {
      "cell_type": "code",
      "source": [
        "options = webdriver.ChromeOptions()\n",
        "options.add_argument( '--no-sandbox' )\n",
        "options.add_argument( '--headless' )\n",
        "options.add_argument( '--disable-gpu' )\n",
        "options.add_argument('--disable-dve-shm-uage')\n",
        "driver = webdriver.Chrome(options=options)"
      ],
      "metadata": {
        "id": "_S7EP-TjJ5Rg"
      },
      "execution_count": null,
      "outputs": []
    },
    {
      "cell_type": "code",
      "source": [
        "k = 1\n",
        "url = \"https://www.emlakjet.com/satilik-konut/bursa/\"\n",
        "driver.get(url)\n",
        "while (k<=50):\n",
        "    if(k!=1):\n",
        "        driver.get(\"https://www.emlakjet.com/satilik-konut/bursa/\"+str(k))\n",
        "        url=\"https://www.emlakjet.com/satilik-konut/bursa/\"+str(k)\n",
        "    k+=1\n",
        "    i=1\n",
        "    while (i<=38):\n",
        "      Veri_çekme(i,url)\n",
        "      i+=1\n",
        "\n",
        "driver.quit()"
      ],
      "metadata": {
        "id": "oOnCc5OKUg7Q"
      },
      "execution_count": null,
      "outputs": []
    },
    {
      "cell_type": "code",
      "source": [
        "k=1\n",
        "if (k!=1):\n",
        "  print(\"a\")"
      ],
      "metadata": {
        "id": "9n1Ie9tXLrUY"
      },
      "execution_count": null,
      "outputs": []
    },
    {
      "cell_type": "code",
      "source": [
        "# CSV dosyasını oku\n",
        "dosya_yolu = \"ev_verileri.csv\"\n",
        "ev_verileri = pd.read_csv(dosya_yolu, encoding=\"utf-8\", error_bad_lines=False, warn_bad_lines=True)\n",
        "\n",
        "# DataFrame'i göster\n",
        "print(ev_verileri)\n",
        "\n"
      ],
      "metadata": {
        "colab": {
          "base_uri": "https://localhost:8080/"
        },
        "id": "nKHBQ1w1TYyU",
        "outputId": "706da271-232c-4203-82bd-5f90c873f610"
      },
      "execution_count": null,
      "outputs": [
        {
          "output_type": "stream",
          "name": "stdout",
          "text": [
            "      İlan Numarası İlan Güncelleme Tarihi Kategorisi Net Metrekare  \\\n",
            "0          14294650          25 Kasım 2023    Satılık         80 M2   \n",
            "1          14284983          24 Kasım 2023    Satılık        320 M2   \n",
            "2          14283696          21 Kasım 2023    Satılık        110 M2   \n",
            "3          14283696          21 Kasım 2023    Satılık        110 M2   \n",
            "4          14282795          21 Kasım 2023    Satılık        110 M2   \n",
            "...             ...                    ...        ...           ...   \n",
            "1435       14140270           21 Ekim 2023    Satılık        120 M2   \n",
            "1436       14140269           21 Ekim 2023    Satılık         80 M2   \n",
            "1437       14140057           21 Ekim 2023    Satılık        240 M2   \n",
            "1438       14139870          25 Kasım 2023    Satılık        140 M2   \n",
            "1439       14139735          24 Kasım 2023    Satılık        110 M2   \n",
            "\n",
            "     Oda Sayısı      Bulunduğu Kat          Isıtma Tipi Krediye Uygunluk  \\\n",
            "0           2+1              6.Kat     Merkezi Doğalgaz    Krediye Uygun   \n",
            "1           6+1              9.Kat       Kombi Doğalgaz    Krediye Uygun   \n",
            "2           3+1              1.Kat       Kombi Doğalgaz    Krediye Uygun   \n",
            "3           3+1              1.Kat       Kombi Doğalgaz    Krediye Uygun   \n",
            "4           2+1              3.Kat       Kombi Doğalgaz    Krediye Uygun   \n",
            "...         ...                ...                  ...              ...   \n",
            "1435        3+1  Düz Giriş (Zemin)       Kombi Doğalgaz    Krediye Uygun   \n",
            "1436        2+1                NaN       Kombi Doğalgaz    KREDIYE UYGUN   \n",
            "1437        4+1          Çatı Katı  Merkezi (Pay Ölçer)    Krediye Uygun   \n",
            "1438        3+1              6.Kat       Kombi Doğalgaz    Krediye Uygun   \n",
            "1439        3+1              2.Kat        Yerden Isıtma    Krediye Uygun   \n",
            "\n",
            "      Yapı Tipi Takas  ... Banyo Metrekare Yatırıma Uygunluk      Tapu Durumu  \\\n",
            "0     Betonarme   Yok  ...             NaN    Yatırıma Uygun    Kat Mülkiyeti   \n",
            "1           NaN   NaN  ...             NaN               NaN              NaN   \n",
            "2           NaN   NaN  ...             NaN               NaN              NaN   \n",
            "3           NaN   NaN  ...             NaN               NaN              NaN   \n",
            "4           NaN   Yok  ...             NaN               NaN     Kat İrtifakı   \n",
            "...         ...   ...  ...             ...               ...              ...   \n",
            "1435        NaN   Yok  ...             NaN        Bilinmiyor              NaN   \n",
            "1436        NaN   Yok  ...             NaN        Bilinmiyor  Müstakil Tapulu   \n",
            "1437        NaN   Yok  ...             NaN        Bilinmiyor              NaN   \n",
            "1438  Betonarme   Yok  ...             NaN    Yatırıma Uygun    Kat Mülkiyeti   \n",
            "1439        NaN   Yok  ...             NaN               NaN     Kat İrtifakı   \n",
            "\n",
            "     Eşya Durumu Balkon Durumu   Balkon Tipi Görüntülü Gezilebilir Mi?  \\\n",
            "0            Boş          Var            NaN                       NaN   \n",
            "1            NaN           NaN           NaN                       NaN   \n",
            "2            NaN           Var  Açık Balkon                        NaN   \n",
            "3            NaN           Var  Açık Balkon                        NaN   \n",
            "4            NaN           Var           NaN                    Hayır    \n",
            "...          ...           ...           ...                       ...   \n",
            "1435         Boş           NaN           NaN                       NaN   \n",
            "1436         Boş           NaN           NaN                       NaN   \n",
            "1437      Eşyalı           NaN           NaN                       NaN   \n",
            "1438         NaN           Var   Açık Balkon                     Evet    \n",
            "1439         NaN          Var            NaN                       NaN   \n",
            "\n",
            "     WC Sayısı       Konum    Fiyat  \n",
            "0          NaN    Yıldırım  3500000  \n",
            "1          NaN    Yıldırım  5250000  \n",
            "2          NaN     Mudanya  3000000  \n",
            "3          NaN     Mudanya  3000000  \n",
            "4          NaN   Osmangazi  2199000  \n",
            "...        ...         ...      ...  \n",
            "1435       NaN    Yıldırım  1575000  \n",
            "1436       NaN    Yıldırım  3950000  \n",
            "1437       NaN    Yıldırım  6150000  \n",
            "1438         1     Nilüfer  3715000  \n",
            "1439       NaN     Nilüfer  3500000  \n",
            "\n",
            "[1440 rows x 37 columns]\n"
          ]
        },
        {
          "output_type": "stream",
          "name": "stderr",
          "text": [
            "<ipython-input-9-993789952bb0>:3: FutureWarning: The error_bad_lines argument has been deprecated and will be removed in a future version. Use on_bad_lines in the future.\n",
            "\n",
            "\n",
            "  ev_verileri = pd.read_csv(dosya_yolu, encoding=\"utf-8\", error_bad_lines=False, warn_bad_lines=True)\n",
            "<ipython-input-9-993789952bb0>:3: FutureWarning: The warn_bad_lines argument has been deprecated and will be removed in a future version. Use on_bad_lines in the future.\n",
            "\n",
            "\n",
            "  ev_verileri = pd.read_csv(dosya_yolu, encoding=\"utf-8\", error_bad_lines=False, warn_bad_lines=True)\n"
          ]
        }
      ]
    }
  ]
}
