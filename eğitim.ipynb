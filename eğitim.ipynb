{
 "cells": [
  {
   "cell_type": "code",
   "execution_count": 1,
   "metadata": {},
   "outputs": [],
   "source": [
    "import pandas as pd\n",
    "from sklearn.neighbors import KNeighborsClassifier\n",
    "from sklearn.svm import SVC\n",
    "from sklearn.ensemble import RandomForestClassifier\n",
    "from sklearn.metrics import accuracy_score\n",
    "from sklearn.metrics import mean_absolute_error\n",
    "from sklearn.linear_model import LinearRegression\n",
    "import numpy as np\n",
    "from sklearn.model_selection import train_test_split\n",
    "from sklearn.preprocessing import MinMaxScaler"
   ]
  },
  {
   "cell_type": "code",
   "execution_count": 2,
   "metadata": {},
   "outputs": [],
   "source": [
    "veri = pd.read_csv(\"zingat4.csv\",header=None)"
   ]
  },
  {
   "cell_type": "code",
   "execution_count": 3,
   "metadata": {},
   "outputs": [],
   "source": [
    "veri = veri.drop([0,5,6], axis=1)"
   ]
  },
  {
   "cell_type": "code",
   "execution_count": 4,
   "metadata": {},
   "outputs": [
    {
     "data": {
      "text/plain": [
       "array(['10', 'Kombi Doğalgaz', 'Merkezi Doğalgaz', 'Kiracı Oturuyor',\n",
       "       'Sobalı', 'Merkezi Kömür', 'Yerden Isıtma', 'Merkezi (Pay Ölçer)',\n",
       "       'Doğalgaz Sobalı', 'Kombi Fueloil', 'Isıtma Yok', 'Klimalı',\n",
       "       'Kat Kaloriferi', '140 M2', 'Boş', 'Mülk Sahibi Oturuyor'],\n",
       "      dtype=object)"
      ]
     },
     "execution_count": 4,
     "metadata": {},
     "output_type": "execute_result"
    }
   ],
   "source": [
    "veri[11].unique()"
   ]
  },
  {
   "cell_type": "code",
   "execution_count": 5,
   "metadata": {},
   "outputs": [],
   "source": [
    "veri = veri.drop(0, axis=0)\n",
    "veri = veri.reset_index(level=0, drop=True)"
   ]
  },
  {
   "cell_type": "code",
   "execution_count": 6,
   "metadata": {},
   "outputs": [
    {
     "name": "stdout",
     "output_type": "stream",
     "text": [
      "195\n"
     ]
    }
   ],
   "source": [
    "for index,değişken in enumerate(veri[7]):\n",
    "    if değişken==\"2\":\n",
    "        print(index)\n",
    "        veri = veri.drop(index,axis=0)\n",
    "veri = veri.reset_index(level=0, drop=True)"
   ]
  },
  {
   "cell_type": "code",
   "execution_count": 7,
   "metadata": {},
   "outputs": [
    {
     "name": "stderr",
     "output_type": "stream",
     "text": [
      "C:\\Users\\umut6\\AppData\\Local\\Temp\\ipykernel_22644\\2929148142.py:3: SettingWithCopyWarning: \n",
      "A value is trying to be set on a copy of a slice from a DataFrame\n",
      "\n",
      "See the caveats in the documentation: https://pandas.pydata.org/pandas-docs/stable/user_guide/indexing.html#returning-a-view-versus-a-copy\n",
      "  veri[2][i] = veri[2][i].replace(\"M2\",\"\")\n",
      "C:\\Users\\umut6\\AppData\\Local\\Temp\\ipykernel_22644\\2929148142.py:4: SettingWithCopyWarning: \n",
      "A value is trying to be set on a copy of a slice from a DataFrame\n",
      "\n",
      "See the caveats in the documentation: https://pandas.pydata.org/pandas-docs/stable/user_guide/indexing.html#returning-a-view-versus-a-copy\n",
      "  veri[2][i] = veri[2][i].replace(\" \",\"\")\n",
      "C:\\Users\\umut6\\AppData\\Local\\Temp\\ipykernel_22644\\2929148142.py:5: SettingWithCopyWarning: \n",
      "A value is trying to be set on a copy of a slice from a DataFrame\n",
      "\n",
      "See the caveats in the documentation: https://pandas.pydata.org/pandas-docs/stable/user_guide/indexing.html#returning-a-view-versus-a-copy\n",
      "  veri[2][i] = veri[2][i].replace(\".\",\"\")\n",
      "C:\\Users\\umut6\\AppData\\Local\\Temp\\ipykernel_22644\\2929148142.py:6: SettingWithCopyWarning: \n",
      "A value is trying to be set on a copy of a slice from a DataFrame\n",
      "\n",
      "See the caveats in the documentation: https://pandas.pydata.org/pandas-docs/stable/user_guide/indexing.html#returning-a-view-versus-a-copy\n",
      "  veri[2][i] = int(veri[2][i])\n"
     ]
    },
    {
     "name": "stdout",
     "output_type": "stream",
     "text": [
      "199\n",
      "598\n",
      "1268\n"
     ]
    }
   ],
   "source": [
    "i = 0\n",
    "while( i <= len(veri[2])-1):\n",
    "    veri[2][i] = veri[2][i].replace(\"M2\",\"\")\n",
    "    veri[2][i] = veri[2][i].replace(\" \",\"\")\n",
    "    veri[2][i] = veri[2][i].replace(\".\",\"\")\n",
    "    veri[2][i] = int(veri[2][i])\n",
    "    i += 1\n",
    "for index,değişken in enumerate(veri[2]):\n",
    "    if değişken>1653:\n",
    "        print(index)\n",
    "        veri = veri.drop(index,axis=0)\n",
    "veri = veri.reset_index(level=0, drop=True)"
   ]
  },
  {
   "cell_type": "code",
   "execution_count": 8,
   "metadata": {},
   "outputs": [
    {
     "name": "stderr",
     "output_type": "stream",
     "text": [
      "C:\\Users\\umut6\\AppData\\Local\\Temp\\ipykernel_22644\\2905418762.py:3: SettingWithCopyWarning: \n",
      "A value is trying to be set on a copy of a slice from a DataFrame\n",
      "\n",
      "See the caveats in the documentation: https://pandas.pydata.org/pandas-docs/stable/user_guide/indexing.html#returning-a-view-versus-a-copy\n",
      "  veri[8][i] = veri[8][i].replace(\"M2\",\"\")\n",
      "C:\\Users\\umut6\\AppData\\Local\\Temp\\ipykernel_22644\\2905418762.py:4: SettingWithCopyWarning: \n",
      "A value is trying to be set on a copy of a slice from a DataFrame\n",
      "\n",
      "See the caveats in the documentation: https://pandas.pydata.org/pandas-docs/stable/user_guide/indexing.html#returning-a-view-versus-a-copy\n",
      "  veri[8][i] = veri[8][i].replace(\" \",\"\")\n",
      "C:\\Users\\umut6\\AppData\\Local\\Temp\\ipykernel_22644\\2905418762.py:5: SettingWithCopyWarning: \n",
      "A value is trying to be set on a copy of a slice from a DataFrame\n",
      "\n",
      "See the caveats in the documentation: https://pandas.pydata.org/pandas-docs/stable/user_guide/indexing.html#returning-a-view-versus-a-copy\n",
      "  veri[8][i] = veri[8][i].replace(\".\",\"\")\n",
      "C:\\Users\\umut6\\AppData\\Local\\Temp\\ipykernel_22644\\2905418762.py:6: SettingWithCopyWarning: \n",
      "A value is trying to be set on a copy of a slice from a DataFrame\n",
      "\n",
      "See the caveats in the documentation: https://pandas.pydata.org/pandas-docs/stable/user_guide/indexing.html#returning-a-view-versus-a-copy\n",
      "  veri[8][i] = int(veri[8][i])\n"
     ]
    }
   ],
   "source": [
    "i = 0\n",
    "while( i <= len(veri[8])-1):\n",
    "    veri[8][i] = veri[8][i].replace(\"M2\",\"\")\n",
    "    veri[8][i] = veri[8][i].replace(\" \",\"\")\n",
    "    veri[8][i] = veri[8][i].replace(\".\",\"\")\n",
    "    veri[8][i] = int(veri[8][i])\n",
    "    i += 1"
   ]
  },
  {
   "cell_type": "code",
   "execution_count": 9,
   "metadata": {},
   "outputs": [
    {
     "name": "stderr",
     "output_type": "stream",
     "text": [
      "C:\\Users\\umut6\\AppData\\Local\\Temp\\ipykernel_22644\\838994572.py:4: SettingWithCopyWarning: \n",
      "A value is trying to be set on a copy of a slice from a DataFrame\n",
      "\n",
      "See the caveats in the documentation: https://pandas.pydata.org/pandas-docs/stable/user_guide/indexing.html#returning-a-view-versus-a-copy\n",
      "  veri[3][i] = 8\n",
      "C:\\Users\\umut6\\AppData\\Local\\Temp\\ipykernel_22644\\838994572.py:10: SettingWithCopyWarning: \n",
      "A value is trying to be set on a copy of a slice from a DataFrame\n",
      "\n",
      "See the caveats in the documentation: https://pandas.pydata.org/pandas-docs/stable/user_guide/indexing.html#returning-a-view-versus-a-copy\n",
      "  veri[3][i] = 0\n",
      "C:\\Users\\umut6\\AppData\\Local\\Temp\\ipykernel_22644\\838994572.py:8: SettingWithCopyWarning: \n",
      "A value is trying to be set on a copy of a slice from a DataFrame\n",
      "\n",
      "See the caveats in the documentation: https://pandas.pydata.org/pandas-docs/stable/user_guide/indexing.html#returning-a-view-versus-a-copy\n",
      "  veri[3][i] = 18\n",
      "C:\\Users\\umut6\\AppData\\Local\\Temp\\ipykernel_22644\\838994572.py:6: SettingWithCopyWarning: \n",
      "A value is trying to be set on a copy of a slice from a DataFrame\n",
      "\n",
      "See the caveats in the documentation: https://pandas.pydata.org/pandas-docs/stable/user_guide/indexing.html#returning-a-view-versus-a-copy\n",
      "  veri[3][i] = 25\n",
      "C:\\Users\\umut6\\AppData\\Local\\Temp\\ipykernel_22644\\838994572.py:12: SettingWithCopyWarning: \n",
      "A value is trying to be set on a copy of a slice from a DataFrame\n",
      "\n",
      "See the caveats in the documentation: https://pandas.pydata.org/pandas-docs/stable/user_guide/indexing.html#returning-a-view-versus-a-copy\n",
      "  veri[3][i] = 13\n",
      "C:\\Users\\umut6\\AppData\\Local\\Temp\\ipykernel_22644\\838994572.py:16: SettingWithCopyWarning: \n",
      "A value is trying to be set on a copy of a slice from a DataFrame\n",
      "\n",
      "See the caveats in the documentation: https://pandas.pydata.org/pandas-docs/stable/user_guide/indexing.html#returning-a-view-versus-a-copy\n",
      "  veri[3][index] = int(veri[3][index])\n"
     ]
    }
   ],
   "source": [
    "i = 0\n",
    "while i<=len(veri[3])-1:\n",
    "    if (veri[3][i] == \"5-10\"):\n",
    "        veri[3][i] = 8\n",
    "    elif veri[3][i] == \"21 Ve Üzeri\":\n",
    "        veri[3][i] = 25\n",
    "    elif veri[3][i] == \"16-20\":\n",
    "        veri[3][i] = 18\n",
    "    elif veri[3][i] == \"0 (Yeni)\":\n",
    "        veri[3][i] = 0\n",
    "    elif veri[3][i] == \"11-15\":\n",
    "        veri[3][i] = 13\n",
    "    i+=1\n",
    "for index,değişken in enumerate(veri[3]):\n",
    "    if type(değişken) == str:\n",
    "        veri[3][index] = int(veri[3][index])"
   ]
  },
  {
   "cell_type": "code",
   "execution_count": 10,
   "metadata": {},
   "outputs": [
    {
     "name": "stderr",
     "output_type": "stream",
     "text": [
      "C:\\Users\\umut6\\AppData\\Local\\Temp\\ipykernel_22644\\330566514.py:7: SettingWithCopyWarning: \n",
      "A value is trying to be set on a copy of a slice from a DataFrame\n",
      "\n",
      "See the caveats in the documentation: https://pandas.pydata.org/pandas-docs/stable/user_guide/indexing.html#returning-a-view-versus-a-copy\n",
      "  veri[9][index] = 3\n",
      "C:\\Users\\umut6\\AppData\\Local\\Temp\\ipykernel_22644\\330566514.py:15: SettingWithCopyWarning: \n",
      "A value is trying to be set on a copy of a slice from a DataFrame\n",
      "\n",
      "See the caveats in the documentation: https://pandas.pydata.org/pandas-docs/stable/user_guide/indexing.html#returning-a-view-versus-a-copy\n",
      "  veri[9][index] = 6\n",
      "C:\\Users\\umut6\\AppData\\Local\\Temp\\ipykernel_22644\\330566514.py:5: SettingWithCopyWarning: \n",
      "A value is trying to be set on a copy of a slice from a DataFrame\n",
      "\n",
      "See the caveats in the documentation: https://pandas.pydata.org/pandas-docs/stable/user_guide/indexing.html#returning-a-view-versus-a-copy\n",
      "  veri[9][index] = 4\n",
      "C:\\Users\\umut6\\AppData\\Local\\Temp\\ipykernel_22644\\330566514.py:11: SettingWithCopyWarning: \n",
      "A value is trying to be set on a copy of a slice from a DataFrame\n",
      "\n",
      "See the caveats in the documentation: https://pandas.pydata.org/pandas-docs/stable/user_guide/indexing.html#returning-a-view-versus-a-copy\n",
      "  veri[9][index] = 2\n",
      "C:\\Users\\umut6\\AppData\\Local\\Temp\\ipykernel_22644\\330566514.py:13: SettingWithCopyWarning: \n",
      "A value is trying to be set on a copy of a slice from a DataFrame\n",
      "\n",
      "See the caveats in the documentation: https://pandas.pydata.org/pandas-docs/stable/user_guide/indexing.html#returning-a-view-versus-a-copy\n",
      "  veri[9][index] = 5\n",
      "C:\\Users\\umut6\\AppData\\Local\\Temp\\ipykernel_22644\\330566514.py:17: SettingWithCopyWarning: \n",
      "A value is trying to be set on a copy of a slice from a DataFrame\n",
      "\n",
      "See the caveats in the documentation: https://pandas.pydata.org/pandas-docs/stable/user_guide/indexing.html#returning-a-view-versus-a-copy\n",
      "  veri[9][index] = 7\n",
      "C:\\Users\\umut6\\AppData\\Local\\Temp\\ipykernel_22644\\330566514.py:21: SettingWithCopyWarning: \n",
      "A value is trying to be set on a copy of a slice from a DataFrame\n",
      "\n",
      "See the caveats in the documentation: https://pandas.pydata.org/pandas-docs/stable/user_guide/indexing.html#returning-a-view-versus-a-copy\n",
      "  veri[9][index] = 9\n",
      "C:\\Users\\umut6\\AppData\\Local\\Temp\\ipykernel_22644\\330566514.py:19: SettingWithCopyWarning: \n",
      "A value is trying to be set on a copy of a slice from a DataFrame\n",
      "\n",
      "See the caveats in the documentation: https://pandas.pydata.org/pandas-docs/stable/user_guide/indexing.html#returning-a-view-versus-a-copy\n",
      "  veri[9][index] = 8\n",
      "C:\\Users\\umut6\\AppData\\Local\\Temp\\ipykernel_22644\\330566514.py:9: SettingWithCopyWarning: \n",
      "A value is trying to be set on a copy of a slice from a DataFrame\n",
      "\n",
      "See the caveats in the documentation: https://pandas.pydata.org/pandas-docs/stable/user_guide/indexing.html#returning-a-view-versus-a-copy\n",
      "  veri[9][index] = 1\n",
      "C:\\Users\\umut6\\AppData\\Local\\Temp\\ipykernel_22644\\330566514.py:3: SettingWithCopyWarning: \n",
      "A value is trying to be set on a copy of a slice from a DataFrame\n",
      "\n",
      "See the caveats in the documentation: https://pandas.pydata.org/pandas-docs/stable/user_guide/indexing.html#returning-a-view-versus-a-copy\n",
      "  veri[9][index] = 10\n"
     ]
    }
   ],
   "source": [
    "for index,değişken in enumerate(veri[9]):\n",
    "    if veri[9][index] == \"8+ Oda\":\n",
    "        veri[9][index] = 10\n",
    "    elif veri[9][index] == \"3+1\" or veri[9][index] == \"2+2\" or veri[9][index] == \"2.5+1\" :\n",
    "        veri[9][index] = 4\n",
    "    elif veri[9][index] == \"2+1\" or veri[9][index] == \"1.5+1\":\n",
    "        veri[9][index] = 3\n",
    "    elif veri[9][index] == \"1 Oda\" or veri[9][index] == \"Stüdyo\":\n",
    "        veri[9][index] = 1\n",
    "    elif veri[9][index] == \"1+1\" or veri[9][index] == \"2+0\":\n",
    "        veri[9][index] = 2\n",
    "    elif veri[9][index] == \"4+1\" or veri[9][index] == \"3+2\" or veri[9][index] == \"3.5+1\":\n",
    "        veri[9][index] = 5\n",
    "    elif veri[9][index] == \"4+2\" or veri[9][index] == \"5+1\" or veri[9][index] == \"4.5+1\":\n",
    "        veri[9][index] = 6\n",
    "    elif veri[9][index] == \"5+2\" or veri[9][index] == \"6+1\":\n",
    "        veri[9][index] = 7\n",
    "    elif veri[9][index] == \"5+3\" or veri[9][index] == \"7+1\" or veri[9][index] == \"6+2\":\n",
    "        veri[9][index] = 8\n",
    "    elif veri[9][index] == \"6+3\":\n",
    "        veri[9][index] = 9\n",
    "    elif type(değişken) == str:\n",
    "        veri = veri.drop(index, axis=0)\n",
    "veri = veri.reset_index(level=0, drop=True)"
   ]
  },
  {
   "cell_type": "code",
   "execution_count": null,
   "metadata": {},
   "outputs": [],
   "source": []
  },
  {
   "cell_type": "code",
   "execution_count": 11,
   "metadata": {},
   "outputs": [
    {
     "data": {
      "text/plain": [
       "array(['3.Kat', 'Bahçe Dublex', 'Yüksek Giriş', '6.Kat', '1.Kat',\n",
       "       'Bahçe Katı', '2.Kat', '4', 'Kot 1 (-1).Kat', '4.Kat', '7.Kat',\n",
       "       'Çatı Katı', '3', '5.Kat', 'Müstakil.Kat', 'Düz Giriş', '8.Kat',\n",
       "       'Çatı Dubleks', '9.Kat', 'Villa Tipi', 'Kot 3 (-3).Kat', '10.Kat',\n",
       "       'Yüksek Bodrum', 'Yarı Bodrum', '14.Kat', '10-20.Kat', '16.Kat',\n",
       "       'Kot 2 (-2).Kat', '12.Kat', '11.Kat', '5', 'Tam Bodrum.Kat', '6',\n",
       "       '17.Kat', '13.Kat', '15.Kat', '24.Kat'], dtype=object)"
      ]
     },
     "execution_count": 11,
     "metadata": {},
     "output_type": "execute_result"
    }
   ],
   "source": [
    "veri[10].unique()"
   ]
  },
  {
   "cell_type": "code",
   "execution_count": 12,
   "metadata": {},
   "outputs": [
    {
     "name": "stderr",
     "output_type": "stream",
     "text": [
      "C:\\Users\\umut6\\AppData\\Local\\Temp\\ipykernel_22644\\2399872760.py:3: SettingWithCopyWarning: \n",
      "A value is trying to be set on a copy of a slice from a DataFrame\n",
      "\n",
      "See the caveats in the documentation: https://pandas.pydata.org/pandas-docs/stable/user_guide/indexing.html#returning-a-view-versus-a-copy\n",
      "  veri[10][i] = veri[10][i].replace(\".Kat\",\"\")\n",
      "C:\\Users\\umut6\\AppData\\Local\\Temp\\ipykernel_22644\\2399872760.py:11: SettingWithCopyWarning: \n",
      "A value is trying to be set on a copy of a slice from a DataFrame\n",
      "\n",
      "See the caveats in the documentation: https://pandas.pydata.org/pandas-docs/stable/user_guide/indexing.html#returning-a-view-versus-a-copy\n",
      "  veri[10][i] = 1\n",
      "C:\\Users\\umut6\\AppData\\Local\\Temp\\ipykernel_22644\\2399872760.py:5: SettingWithCopyWarning: \n",
      "A value is trying to be set on a copy of a slice from a DataFrame\n",
      "\n",
      "See the caveats in the documentation: https://pandas.pydata.org/pandas-docs/stable/user_guide/indexing.html#returning-a-view-versus-a-copy\n",
      "  veri[10][i] = -1\n",
      "C:\\Users\\umut6\\AppData\\Local\\Temp\\ipykernel_22644\\2399872760.py:7: SettingWithCopyWarning: \n",
      "A value is trying to be set on a copy of a slice from a DataFrame\n",
      "\n",
      "See the caveats in the documentation: https://pandas.pydata.org/pandas-docs/stable/user_guide/indexing.html#returning-a-view-versus-a-copy\n",
      "  veri[10][i] = -3\n",
      "C:\\Users\\umut6\\AppData\\Local\\Temp\\ipykernel_22644\\2399872760.py:13: SettingWithCopyWarning: \n",
      "A value is trying to be set on a copy of a slice from a DataFrame\n",
      "\n",
      "See the caveats in the documentation: https://pandas.pydata.org/pandas-docs/stable/user_guide/indexing.html#returning-a-view-versus-a-copy\n",
      "  veri[10][i] = 15\n",
      "C:\\Users\\umut6\\AppData\\Local\\Temp\\ipykernel_22644\\2399872760.py:9: SettingWithCopyWarning: \n",
      "A value is trying to be set on a copy of a slice from a DataFrame\n",
      "\n",
      "See the caveats in the documentation: https://pandas.pydata.org/pandas-docs/stable/user_guide/indexing.html#returning-a-view-versus-a-copy\n",
      "  veri[10][i] = -2\n"
     ]
    }
   ],
   "source": [
    "i = 0\n",
    "while( i <= len(veri[10])-1):\n",
    "    veri[10][i] = veri[10][i].replace(\".Kat\",\"\")\n",
    "    if veri[10][i] == \"Kot 1 (-1)\" or veri[10][i] == \"Tam Bodrum\" or veri[10][i] == \"Yüksek Bodrum\" or veri[10][i] == \"Yarı Bodrum\":\n",
    "        veri[10][i] = -1\n",
    "    elif veri[10][i] == \"Kot 3 (-3)\":\n",
    "        veri[10][i] = -3\n",
    "    elif veri[10][i] == \"Kot 2 (-2)\":\n",
    "        veri[10][i] = -2\n",
    "    elif veri[10][i] == \"Bahçe Katı\" or veri[10][i] == \"Yüksek Giriş\" or veri[10][i] == \"Düz Giriş\":\n",
    "        veri[10][i] = 1\n",
    "    elif veri[10][i] == \"10-20\":\n",
    "        veri[10][i] = 15\n",
    "    elif veri[10][i] == \"Konut\":\n",
    "        veri = veri.drop(i,axis=0)\n",
    "    i += 1\n",
    "veri = veri.reset_index(level=0, drop=True)"
   ]
  },
  {
   "cell_type": "code",
   "execution_count": 13,
   "metadata": {},
   "outputs": [
    {
     "name": "stderr",
     "output_type": "stream",
     "text": [
      "C:\\Users\\umut6\\AppData\\Local\\Temp\\ipykernel_22644\\2864122944.py:12: SettingWithCopyWarning: \n",
      "A value is trying to be set on a copy of a slice from a DataFrame\n",
      "\n",
      "See the caveats in the documentation: https://pandas.pydata.org/pandas-docs/stable/user_guide/indexing.html#returning-a-view-versus-a-copy\n",
      "  veri[7][index] = \"Dubleks\"\n",
      "C:\\Users\\umut6\\AppData\\Local\\Temp\\ipykernel_22644\\2864122944.py:13: SettingWithCopyWarning: \n",
      "A value is trying to be set on a copy of a slice from a DataFrame\n",
      "\n",
      "See the caveats in the documentation: https://pandas.pydata.org/pandas-docs/stable/user_guide/indexing.html#returning-a-view-versus-a-copy\n",
      "  veri[10][index] = 1\n",
      "C:\\Users\\umut6\\AppData\\Local\\Temp\\ipykernel_22644\\2864122944.py:9: SettingWithCopyWarning: \n",
      "A value is trying to be set on a copy of a slice from a DataFrame\n",
      "\n",
      "See the caveats in the documentation: https://pandas.pydata.org/pandas-docs/stable/user_guide/indexing.html#returning-a-view-versus-a-copy\n",
      "  veri[7][index] = \"Müstakil\"\n",
      "C:\\Users\\umut6\\AppData\\Local\\Temp\\ipykernel_22644\\2864122944.py:10: SettingWithCopyWarning: \n",
      "A value is trying to be set on a copy of a slice from a DataFrame\n",
      "\n",
      "See the caveats in the documentation: https://pandas.pydata.org/pandas-docs/stable/user_guide/indexing.html#returning-a-view-versus-a-copy\n",
      "  veri[10][index] = 1\n",
      "C:\\Users\\umut6\\AppData\\Local\\Temp\\ipykernel_22644\\2864122944.py:3: SettingWithCopyWarning: \n",
      "A value is trying to be set on a copy of a slice from a DataFrame\n",
      "\n",
      "See the caveats in the documentation: https://pandas.pydata.org/pandas-docs/stable/user_guide/indexing.html#returning-a-view-versus-a-copy\n",
      "  veri[7][index] = \"Dubleks\"\n",
      "C:\\Users\\umut6\\AppData\\Local\\Temp\\ipykernel_22644\\2864122944.py:4: SettingWithCopyWarning: \n",
      "A value is trying to be set on a copy of a slice from a DataFrame\n",
      "\n",
      "See the caveats in the documentation: https://pandas.pydata.org/pandas-docs/stable/user_guide/indexing.html#returning-a-view-versus-a-copy\n",
      "  veri[10][index] = 1\n",
      "C:\\Users\\umut6\\AppData\\Local\\Temp\\ipykernel_22644\\2864122944.py:6: SettingWithCopyWarning: \n",
      "A value is trying to be set on a copy of a slice from a DataFrame\n",
      "\n",
      "See the caveats in the documentation: https://pandas.pydata.org/pandas-docs/stable/user_guide/indexing.html#returning-a-view-versus-a-copy\n",
      "  veri[7][index] = \"Villa\"\n",
      "C:\\Users\\umut6\\AppData\\Local\\Temp\\ipykernel_22644\\2864122944.py:7: SettingWithCopyWarning: \n",
      "A value is trying to be set on a copy of a slice from a DataFrame\n",
      "\n",
      "See the caveats in the documentation: https://pandas.pydata.org/pandas-docs/stable/user_guide/indexing.html#returning-a-view-versus-a-copy\n",
      "  veri[10][index] = 1\n"
     ]
    }
   ],
   "source": [
    "for index,değişken in enumerate(veri[10]):\n",
    "    if değişken == \"Çatı Dubleks\":\n",
    "        veri[7][index] = \"Dubleks\"\n",
    "        veri[10][index] = 1\n",
    "    elif değişken == \"Villa Tipi\":\n",
    "        veri[7][index] = \"Villa\"\n",
    "        veri[10][index] = 1\n",
    "    elif değişken == \"Müstakil\":\n",
    "        veri[7][index] = \"Müstakil\"\n",
    "        veri[10][index] = 1\n",
    "    elif değişken == \"Bahçe Dublex\":\n",
    "        veri[7][index] = \"Dubleks\"\n",
    "        veri[10][index] = 1\n",
    "    elif değişken == \"Çatı Katı\":\n",
    "        veri = veri.drop(index,axis=0)\n",
    "veri = veri.reset_index(level=0, drop=True)"
   ]
  },
  {
   "cell_type": "code",
   "execution_count": 14,
   "metadata": {},
   "outputs": [
    {
     "data": {
      "text/plain": [
       "array(['5', '3', '4', '6', '7', '8', 'Kombi Doğalgaz', '2', '10', '15',\n",
       "       '9', '12', '13', '1', '11', '19', '20', '18', 'Kombi Fueloil',\n",
       "       '17', '14', '22', '24', '21', 'Doğalgaz Sobalı', 'Isıtma Yok',\n",
       "       '16', 'Sobalı'], dtype=object)"
      ]
     },
     "execution_count": 14,
     "metadata": {},
     "output_type": "execute_result"
    }
   ],
   "source": [
    "veri = veri.reset_index(level=0, drop=True)\n",
    "veri[4].unique()"
   ]
  },
  {
   "cell_type": "code",
   "execution_count": 15,
   "metadata": {},
   "outputs": [],
   "source": [
    "for indexi,değişken in enumerate(veri[3]):\n",
    "    if (type(değişken)==str):\n",
    "        veri = veri.drop(indexi,axis=0)\n",
    "veri = veri.reset_index(level=0, drop=True)"
   ]
  },
  {
   "cell_type": "code",
   "execution_count": 16,
   "metadata": {},
   "outputs": [],
   "source": [
    "veri = veri.reset_index(level=0, drop=True)"
   ]
  },
  {
   "cell_type": "code",
   "execution_count": 17,
   "metadata": {},
   "outputs": [
    {
     "data": {
      "text/plain": [
       "array(['5', '3', '4', '6', '7', '8', 'Kombi Doğalgaz', '2', '10', '15',\n",
       "       '9', '12', '13', '1', '11', '19', '20', '18', 'Kombi Fueloil',\n",
       "       '17', '14', '22', '24', '21', 'Doğalgaz Sobalı', 'Isıtma Yok',\n",
       "       '16', 'Sobalı'], dtype=object)"
      ]
     },
     "execution_count": 17,
     "metadata": {},
     "output_type": "execute_result"
    }
   ],
   "source": [
    "veri[4].unique()"
   ]
  },
  {
   "cell_type": "code",
   "execution_count": 18,
   "metadata": {},
   "outputs": [
    {
     "name": "stderr",
     "output_type": "stream",
     "text": [
      "C:\\Users\\umut6\\AppData\\Local\\Temp\\ipykernel_22644\\381153714.py:17: SettingWithCopyWarning: \n",
      "A value is trying to be set on a copy of a slice from a DataFrame\n",
      "\n",
      "See the caveats in the documentation: https://pandas.pydata.org/pandas-docs/stable/user_guide/indexing.html#returning-a-view-versus-a-copy\n",
      "  veri[4][index] = int(veri[4][index])\n"
     ]
    },
    {
     "name": "stdout",
     "output_type": "stream",
     "text": [
      "292\n"
     ]
    }
   ],
   "source": [
    "veri[4].unique()\n",
    "for index,değişken in enumerate(veri[4]):\n",
    "    if değişken == \"Sobalı\":\n",
    "        veri = veri.drop(index,axis=0)\n",
    "    elif değişken == \"Kombi Doğalgaz\":\n",
    "        veri = veri.drop(index,axis=0)\n",
    "    elif değişken == \"Isıtma Yok\":\n",
    "        veri = veri.drop(index,axis=0)\n",
    "    elif değişken == \"Doğalgaz Sobalı\":\n",
    "        veri = veri.drop(index,axis=0)\n",
    "    elif değişken == \"Kombi Fueloil\":\n",
    "        print(index)\n",
    "        veri = veri.drop(index,axis=0)\n",
    "veri = veri.reset_index(level=0, drop=True)\n",
    "for index,değişken in enumerate(veri[4]):\n",
    "    if type(değişken)==str:\n",
    "        veri[4][index] = int(veri[4][index])\n",
    "veri = veri.reset_index(level=0, drop=True)"
   ]
  },
  {
   "cell_type": "code",
   "execution_count": 19,
   "metadata": {},
   "outputs": [],
   "source": [
    "nlist = [2,3,4,8,9,10]\n",
    "for i in nlist:\n",
    "    mms = MinMaxScaler()\n",
    "    veri[i] =  mms.fit_transform(veri[i].values.reshape(-1,1))"
   ]
  },
  {
   "cell_type": "code",
   "execution_count": 20,
   "metadata": {},
   "outputs": [],
   "source": [
    "veri1 = pd.get_dummies(veri[7])\n",
    "veri1 = pd.get_dummies(veri[11])\n",
    "veri = veri.drop([7,11],axis=1)\n",
    "dataFrame = pd.concat([veri,veri1], axis=1)\n"
   ]
  },
  {
   "cell_type": "code",
   "execution_count": 21,
   "metadata": {},
   "outputs": [
    {
     "data": {
      "text/html": [
       "<div>\n",
       "<style scoped>\n",
       "    .dataframe tbody tr th:only-of-type {\n",
       "        vertical-align: middle;\n",
       "    }\n",
       "\n",
       "    .dataframe tbody tr th {\n",
       "        vertical-align: top;\n",
       "    }\n",
       "\n",
       "    .dataframe thead th {\n",
       "        text-align: right;\n",
       "    }\n",
       "</style>\n",
       "<table border=\"1\" class=\"dataframe\">\n",
       "  <thead>\n",
       "    <tr style=\"text-align: right;\">\n",
       "      <th></th>\n",
       "      <th>1</th>\n",
       "      <th>2</th>\n",
       "      <th>3</th>\n",
       "      <th>4</th>\n",
       "      <th>8</th>\n",
       "      <th>9</th>\n",
       "      <th>10</th>\n",
       "      <th>Doğalgaz Sobalı</th>\n",
       "      <th>Kat Kaloriferi</th>\n",
       "      <th>Klimalı</th>\n",
       "      <th>Kombi Doğalgaz</th>\n",
       "      <th>Kombi Fueloil</th>\n",
       "      <th>Merkezi (Pay Ölçer)</th>\n",
       "      <th>Merkezi Doğalgaz</th>\n",
       "      <th>Merkezi Kömür</th>\n",
       "      <th>Sobalı</th>\n",
       "      <th>Yerden Isıtma</th>\n",
       "    </tr>\n",
       "  </thead>\n",
       "  <tbody>\n",
       "    <tr>\n",
       "      <th>0</th>\n",
       "      <td>2150000</td>\n",
       "      <td>0.043397</td>\n",
       "      <td>0.32</td>\n",
       "      <td>0.173913</td>\n",
       "      <td>0.043977</td>\n",
       "      <td>0.222222</td>\n",
       "      <td>0.222222</td>\n",
       "      <td>0</td>\n",
       "      <td>0</td>\n",
       "      <td>0</td>\n",
       "      <td>1</td>\n",
       "      <td>0</td>\n",
       "      <td>0</td>\n",
       "      <td>0</td>\n",
       "      <td>0</td>\n",
       "      <td>0</td>\n",
       "      <td>0</td>\n",
       "    </tr>\n",
       "    <tr>\n",
       "      <th>1</th>\n",
       "      <td>4610000</td>\n",
       "      <td>0.161190</td>\n",
       "      <td>0.32</td>\n",
       "      <td>0.086957</td>\n",
       "      <td>0.139579</td>\n",
       "      <td>0.555556</td>\n",
       "      <td>0.148148</td>\n",
       "      <td>0</td>\n",
       "      <td>0</td>\n",
       "      <td>0</td>\n",
       "      <td>1</td>\n",
       "      <td>0</td>\n",
       "      <td>0</td>\n",
       "      <td>0</td>\n",
       "      <td>0</td>\n",
       "      <td>0</td>\n",
       "      <td>0</td>\n",
       "    </tr>\n",
       "    <tr>\n",
       "      <th>2</th>\n",
       "      <td>1200000</td>\n",
       "      <td>0.049597</td>\n",
       "      <td>0.00</td>\n",
       "      <td>0.130435</td>\n",
       "      <td>0.050351</td>\n",
       "      <td>0.333333</td>\n",
       "      <td>0.148148</td>\n",
       "      <td>0</td>\n",
       "      <td>0</td>\n",
       "      <td>0</td>\n",
       "      <td>1</td>\n",
       "      <td>0</td>\n",
       "      <td>0</td>\n",
       "      <td>0</td>\n",
       "      <td>0</td>\n",
       "      <td>0</td>\n",
       "      <td>0</td>\n",
       "    </tr>\n",
       "    <tr>\n",
       "      <th>3</th>\n",
       "      <td>800000</td>\n",
       "      <td>0.074396</td>\n",
       "      <td>0.72</td>\n",
       "      <td>0.217391</td>\n",
       "      <td>0.059911</td>\n",
       "      <td>0.222222</td>\n",
       "      <td>0.333333</td>\n",
       "      <td>0</td>\n",
       "      <td>0</td>\n",
       "      <td>0</td>\n",
       "      <td>1</td>\n",
       "      <td>0</td>\n",
       "      <td>0</td>\n",
       "      <td>0</td>\n",
       "      <td>0</td>\n",
       "      <td>0</td>\n",
       "      <td>0</td>\n",
       "    </tr>\n",
       "    <tr>\n",
       "      <th>4</th>\n",
       "      <td>1850000</td>\n",
       "      <td>0.071296</td>\n",
       "      <td>0.08</td>\n",
       "      <td>0.260870</td>\n",
       "      <td>0.072658</td>\n",
       "      <td>0.333333</td>\n",
       "      <td>0.222222</td>\n",
       "      <td>0</td>\n",
       "      <td>0</td>\n",
       "      <td>0</td>\n",
       "      <td>0</td>\n",
       "      <td>0</td>\n",
       "      <td>0</td>\n",
       "      <td>1</td>\n",
       "      <td>0</td>\n",
       "      <td>0</td>\n",
       "      <td>0</td>\n",
       "    </tr>\n",
       "    <tr>\n",
       "      <th>...</th>\n",
       "      <td>...</td>\n",
       "      <td>...</td>\n",
       "      <td>...</td>\n",
       "      <td>...</td>\n",
       "      <td>...</td>\n",
       "      <td>...</td>\n",
       "      <td>...</td>\n",
       "      <td>...</td>\n",
       "      <td>...</td>\n",
       "      <td>...</td>\n",
       "      <td>...</td>\n",
       "      <td>...</td>\n",
       "      <td>...</td>\n",
       "      <td>...</td>\n",
       "      <td>...</td>\n",
       "      <td>...</td>\n",
       "      <td>...</td>\n",
       "    </tr>\n",
       "    <tr>\n",
       "      <th>1260</th>\n",
       "      <td>2100000</td>\n",
       "      <td>0.091754</td>\n",
       "      <td>0.00</td>\n",
       "      <td>0.217391</td>\n",
       "      <td>0.063098</td>\n",
       "      <td>0.333333</td>\n",
       "      <td>0.222222</td>\n",
       "      <td>0</td>\n",
       "      <td>0</td>\n",
       "      <td>0</td>\n",
       "      <td>0</td>\n",
       "      <td>0</td>\n",
       "      <td>0</td>\n",
       "      <td>0</td>\n",
       "      <td>0</td>\n",
       "      <td>0</td>\n",
       "      <td>1</td>\n",
       "    </tr>\n",
       "    <tr>\n",
       "      <th>1261</th>\n",
       "      <td>1550000</td>\n",
       "      <td>0.052697</td>\n",
       "      <td>0.52</td>\n",
       "      <td>0.086957</td>\n",
       "      <td>0.053537</td>\n",
       "      <td>0.333333</td>\n",
       "      <td>0.148148</td>\n",
       "      <td>0</td>\n",
       "      <td>0</td>\n",
       "      <td>0</td>\n",
       "      <td>1</td>\n",
       "      <td>0</td>\n",
       "      <td>0</td>\n",
       "      <td>0</td>\n",
       "      <td>0</td>\n",
       "      <td>0</td>\n",
       "      <td>0</td>\n",
       "    </tr>\n",
       "    <tr>\n",
       "      <th>1262</th>\n",
       "      <td>2995000</td>\n",
       "      <td>0.065096</td>\n",
       "      <td>0.32</td>\n",
       "      <td>0.043478</td>\n",
       "      <td>0.063098</td>\n",
       "      <td>0.333333</td>\n",
       "      <td>0.148148</td>\n",
       "      <td>0</td>\n",
       "      <td>0</td>\n",
       "      <td>0</td>\n",
       "      <td>1</td>\n",
       "      <td>0</td>\n",
       "      <td>0</td>\n",
       "      <td>0</td>\n",
       "      <td>0</td>\n",
       "      <td>0</td>\n",
       "      <td>0</td>\n",
       "    </tr>\n",
       "    <tr>\n",
       "      <th>1263</th>\n",
       "      <td>550000</td>\n",
       "      <td>0.030998</td>\n",
       "      <td>1.00</td>\n",
       "      <td>0.173913</td>\n",
       "      <td>0.028043</td>\n",
       "      <td>0.222222</td>\n",
       "      <td>0.296296</td>\n",
       "      <td>0</td>\n",
       "      <td>0</td>\n",
       "      <td>0</td>\n",
       "      <td>1</td>\n",
       "      <td>0</td>\n",
       "      <td>0</td>\n",
       "      <td>0</td>\n",
       "      <td>0</td>\n",
       "      <td>0</td>\n",
       "      <td>0</td>\n",
       "    </tr>\n",
       "    <tr>\n",
       "      <th>1264</th>\n",
       "      <td>2490000</td>\n",
       "      <td>0.077495</td>\n",
       "      <td>0.32</td>\n",
       "      <td>0.130435</td>\n",
       "      <td>0.066284</td>\n",
       "      <td>0.333333</td>\n",
       "      <td>0.148148</td>\n",
       "      <td>0</td>\n",
       "      <td>0</td>\n",
       "      <td>0</td>\n",
       "      <td>1</td>\n",
       "      <td>0</td>\n",
       "      <td>0</td>\n",
       "      <td>0</td>\n",
       "      <td>0</td>\n",
       "      <td>0</td>\n",
       "      <td>0</td>\n",
       "    </tr>\n",
       "  </tbody>\n",
       "</table>\n",
       "<p>1265 rows × 17 columns</p>\n",
       "</div>"
      ],
      "text/plain": [
       "            1         2     3         4         8         9        10  \\\n",
       "0     2150000  0.043397  0.32  0.173913  0.043977  0.222222  0.222222   \n",
       "1     4610000  0.161190  0.32  0.086957  0.139579  0.555556  0.148148   \n",
       "2     1200000  0.049597  0.00  0.130435  0.050351  0.333333  0.148148   \n",
       "3      800000  0.074396  0.72  0.217391  0.059911  0.222222  0.333333   \n",
       "4     1850000  0.071296  0.08  0.260870  0.072658  0.333333  0.222222   \n",
       "...       ...       ...   ...       ...       ...       ...       ...   \n",
       "1260  2100000  0.091754  0.00  0.217391  0.063098  0.333333  0.222222   \n",
       "1261  1550000  0.052697  0.52  0.086957  0.053537  0.333333  0.148148   \n",
       "1262  2995000  0.065096  0.32  0.043478  0.063098  0.333333  0.148148   \n",
       "1263   550000  0.030998  1.00  0.173913  0.028043  0.222222  0.296296   \n",
       "1264  2490000  0.077495  0.32  0.130435  0.066284  0.333333  0.148148   \n",
       "\n",
       "      Doğalgaz Sobalı  Kat Kaloriferi  Klimalı  Kombi Doğalgaz  Kombi Fueloil  \\\n",
       "0                   0               0        0               1              0   \n",
       "1                   0               0        0               1              0   \n",
       "2                   0               0        0               1              0   \n",
       "3                   0               0        0               1              0   \n",
       "4                   0               0        0               0              0   \n",
       "...               ...             ...      ...             ...            ...   \n",
       "1260                0               0        0               0              0   \n",
       "1261                0               0        0               1              0   \n",
       "1262                0               0        0               1              0   \n",
       "1263                0               0        0               1              0   \n",
       "1264                0               0        0               1              0   \n",
       "\n",
       "      Merkezi (Pay Ölçer)  Merkezi Doğalgaz  Merkezi Kömür  Sobalı  \\\n",
       "0                       0                 0              0       0   \n",
       "1                       0                 0              0       0   \n",
       "2                       0                 0              0       0   \n",
       "3                       0                 0              0       0   \n",
       "4                       0                 1              0       0   \n",
       "...                   ...               ...            ...     ...   \n",
       "1260                    0                 0              0       0   \n",
       "1261                    0                 0              0       0   \n",
       "1262                    0                 0              0       0   \n",
       "1263                    0                 0              0       0   \n",
       "1264                    0                 0              0       0   \n",
       "\n",
       "      Yerden Isıtma  \n",
       "0                 0  \n",
       "1                 0  \n",
       "2                 0  \n",
       "3                 0  \n",
       "4                 0  \n",
       "...             ...  \n",
       "1260              1  \n",
       "1261              0  \n",
       "1262              0  \n",
       "1263              0  \n",
       "1264              0  \n",
       "\n",
       "[1265 rows x 17 columns]"
      ]
     },
     "execution_count": 21,
     "metadata": {},
     "output_type": "execute_result"
    }
   ],
   "source": [
    "dataFrame = dataFrame.drop(\"Isıtma Yok\", axis=1)\n",
    "dataFrame"
   ]
  },
  {
   "cell_type": "code",
   "execution_count": 22,
   "metadata": {},
   "outputs": [],
   "source": [
    "dataFrame.to_csv(\"zingat5.csv\")"
   ]
  },
  {
   "cell_type": "code",
   "execution_count": null,
   "metadata": {},
   "outputs": [],
   "source": []
  },
  {
   "cell_type": "code",
   "execution_count": 23,
   "metadata": {},
   "outputs": [],
   "source": [
    "x = dataFrame.drop(1, axis=1)\n",
    "y = dataFrame[1]\n"
   ]
  },
  {
   "cell_type": "code",
   "execution_count": 24,
   "metadata": {},
   "outputs": [
    {
     "data": {
      "text/html": [
       "<div>\n",
       "<style scoped>\n",
       "    .dataframe tbody tr th:only-of-type {\n",
       "        vertical-align: middle;\n",
       "    }\n",
       "\n",
       "    .dataframe tbody tr th {\n",
       "        vertical-align: top;\n",
       "    }\n",
       "\n",
       "    .dataframe thead th {\n",
       "        text-align: right;\n",
       "    }\n",
       "</style>\n",
       "<table border=\"1\" class=\"dataframe\">\n",
       "  <thead>\n",
       "    <tr style=\"text-align: right;\">\n",
       "      <th></th>\n",
       "      <th>2</th>\n",
       "      <th>3</th>\n",
       "      <th>4</th>\n",
       "      <th>8</th>\n",
       "      <th>9</th>\n",
       "      <th>10</th>\n",
       "      <th>Doğalgaz Sobalı</th>\n",
       "      <th>Kat Kaloriferi</th>\n",
       "      <th>Klimalı</th>\n",
       "      <th>Kombi Doğalgaz</th>\n",
       "      <th>Kombi Fueloil</th>\n",
       "      <th>Merkezi (Pay Ölçer)</th>\n",
       "      <th>Merkezi Doğalgaz</th>\n",
       "      <th>Merkezi Kömür</th>\n",
       "      <th>Sobalı</th>\n",
       "      <th>Yerden Isıtma</th>\n",
       "    </tr>\n",
       "  </thead>\n",
       "  <tbody>\n",
       "    <tr>\n",
       "      <th>0</th>\n",
       "      <td>0.043397</td>\n",
       "      <td>0.32</td>\n",
       "      <td>0.173913</td>\n",
       "      <td>0.043977</td>\n",
       "      <td>0.222222</td>\n",
       "      <td>0.222222</td>\n",
       "      <td>0</td>\n",
       "      <td>0</td>\n",
       "      <td>0</td>\n",
       "      <td>1</td>\n",
       "      <td>0</td>\n",
       "      <td>0</td>\n",
       "      <td>0</td>\n",
       "      <td>0</td>\n",
       "      <td>0</td>\n",
       "      <td>0</td>\n",
       "    </tr>\n",
       "    <tr>\n",
       "      <th>1</th>\n",
       "      <td>0.161190</td>\n",
       "      <td>0.32</td>\n",
       "      <td>0.086957</td>\n",
       "      <td>0.139579</td>\n",
       "      <td>0.555556</td>\n",
       "      <td>0.148148</td>\n",
       "      <td>0</td>\n",
       "      <td>0</td>\n",
       "      <td>0</td>\n",
       "      <td>1</td>\n",
       "      <td>0</td>\n",
       "      <td>0</td>\n",
       "      <td>0</td>\n",
       "      <td>0</td>\n",
       "      <td>0</td>\n",
       "      <td>0</td>\n",
       "    </tr>\n",
       "    <tr>\n",
       "      <th>2</th>\n",
       "      <td>0.049597</td>\n",
       "      <td>0.00</td>\n",
       "      <td>0.130435</td>\n",
       "      <td>0.050351</td>\n",
       "      <td>0.333333</td>\n",
       "      <td>0.148148</td>\n",
       "      <td>0</td>\n",
       "      <td>0</td>\n",
       "      <td>0</td>\n",
       "      <td>1</td>\n",
       "      <td>0</td>\n",
       "      <td>0</td>\n",
       "      <td>0</td>\n",
       "      <td>0</td>\n",
       "      <td>0</td>\n",
       "      <td>0</td>\n",
       "    </tr>\n",
       "    <tr>\n",
       "      <th>3</th>\n",
       "      <td>0.074396</td>\n",
       "      <td>0.72</td>\n",
       "      <td>0.217391</td>\n",
       "      <td>0.059911</td>\n",
       "      <td>0.222222</td>\n",
       "      <td>0.333333</td>\n",
       "      <td>0</td>\n",
       "      <td>0</td>\n",
       "      <td>0</td>\n",
       "      <td>1</td>\n",
       "      <td>0</td>\n",
       "      <td>0</td>\n",
       "      <td>0</td>\n",
       "      <td>0</td>\n",
       "      <td>0</td>\n",
       "      <td>0</td>\n",
       "    </tr>\n",
       "    <tr>\n",
       "      <th>4</th>\n",
       "      <td>0.071296</td>\n",
       "      <td>0.08</td>\n",
       "      <td>0.260870</td>\n",
       "      <td>0.072658</td>\n",
       "      <td>0.333333</td>\n",
       "      <td>0.222222</td>\n",
       "      <td>0</td>\n",
       "      <td>0</td>\n",
       "      <td>0</td>\n",
       "      <td>0</td>\n",
       "      <td>0</td>\n",
       "      <td>0</td>\n",
       "      <td>1</td>\n",
       "      <td>0</td>\n",
       "      <td>0</td>\n",
       "      <td>0</td>\n",
       "    </tr>\n",
       "    <tr>\n",
       "      <th>...</th>\n",
       "      <td>...</td>\n",
       "      <td>...</td>\n",
       "      <td>...</td>\n",
       "      <td>...</td>\n",
       "      <td>...</td>\n",
       "      <td>...</td>\n",
       "      <td>...</td>\n",
       "      <td>...</td>\n",
       "      <td>...</td>\n",
       "      <td>...</td>\n",
       "      <td>...</td>\n",
       "      <td>...</td>\n",
       "      <td>...</td>\n",
       "      <td>...</td>\n",
       "      <td>...</td>\n",
       "      <td>...</td>\n",
       "    </tr>\n",
       "    <tr>\n",
       "      <th>1260</th>\n",
       "      <td>0.091754</td>\n",
       "      <td>0.00</td>\n",
       "      <td>0.217391</td>\n",
       "      <td>0.063098</td>\n",
       "      <td>0.333333</td>\n",
       "      <td>0.222222</td>\n",
       "      <td>0</td>\n",
       "      <td>0</td>\n",
       "      <td>0</td>\n",
       "      <td>0</td>\n",
       "      <td>0</td>\n",
       "      <td>0</td>\n",
       "      <td>0</td>\n",
       "      <td>0</td>\n",
       "      <td>0</td>\n",
       "      <td>1</td>\n",
       "    </tr>\n",
       "    <tr>\n",
       "      <th>1261</th>\n",
       "      <td>0.052697</td>\n",
       "      <td>0.52</td>\n",
       "      <td>0.086957</td>\n",
       "      <td>0.053537</td>\n",
       "      <td>0.333333</td>\n",
       "      <td>0.148148</td>\n",
       "      <td>0</td>\n",
       "      <td>0</td>\n",
       "      <td>0</td>\n",
       "      <td>1</td>\n",
       "      <td>0</td>\n",
       "      <td>0</td>\n",
       "      <td>0</td>\n",
       "      <td>0</td>\n",
       "      <td>0</td>\n",
       "      <td>0</td>\n",
       "    </tr>\n",
       "    <tr>\n",
       "      <th>1262</th>\n",
       "      <td>0.065096</td>\n",
       "      <td>0.32</td>\n",
       "      <td>0.043478</td>\n",
       "      <td>0.063098</td>\n",
       "      <td>0.333333</td>\n",
       "      <td>0.148148</td>\n",
       "      <td>0</td>\n",
       "      <td>0</td>\n",
       "      <td>0</td>\n",
       "      <td>1</td>\n",
       "      <td>0</td>\n",
       "      <td>0</td>\n",
       "      <td>0</td>\n",
       "      <td>0</td>\n",
       "      <td>0</td>\n",
       "      <td>0</td>\n",
       "    </tr>\n",
       "    <tr>\n",
       "      <th>1263</th>\n",
       "      <td>0.030998</td>\n",
       "      <td>1.00</td>\n",
       "      <td>0.173913</td>\n",
       "      <td>0.028043</td>\n",
       "      <td>0.222222</td>\n",
       "      <td>0.296296</td>\n",
       "      <td>0</td>\n",
       "      <td>0</td>\n",
       "      <td>0</td>\n",
       "      <td>1</td>\n",
       "      <td>0</td>\n",
       "      <td>0</td>\n",
       "      <td>0</td>\n",
       "      <td>0</td>\n",
       "      <td>0</td>\n",
       "      <td>0</td>\n",
       "    </tr>\n",
       "    <tr>\n",
       "      <th>1264</th>\n",
       "      <td>0.077495</td>\n",
       "      <td>0.32</td>\n",
       "      <td>0.130435</td>\n",
       "      <td>0.066284</td>\n",
       "      <td>0.333333</td>\n",
       "      <td>0.148148</td>\n",
       "      <td>0</td>\n",
       "      <td>0</td>\n",
       "      <td>0</td>\n",
       "      <td>1</td>\n",
       "      <td>0</td>\n",
       "      <td>0</td>\n",
       "      <td>0</td>\n",
       "      <td>0</td>\n",
       "      <td>0</td>\n",
       "      <td>0</td>\n",
       "    </tr>\n",
       "  </tbody>\n",
       "</table>\n",
       "<p>1265 rows × 16 columns</p>\n",
       "</div>"
      ],
      "text/plain": [
       "             2     3         4         8         9        10  Doğalgaz Sobalı  \\\n",
       "0     0.043397  0.32  0.173913  0.043977  0.222222  0.222222                0   \n",
       "1     0.161190  0.32  0.086957  0.139579  0.555556  0.148148                0   \n",
       "2     0.049597  0.00  0.130435  0.050351  0.333333  0.148148                0   \n",
       "3     0.074396  0.72  0.217391  0.059911  0.222222  0.333333                0   \n",
       "4     0.071296  0.08  0.260870  0.072658  0.333333  0.222222                0   \n",
       "...        ...   ...       ...       ...       ...       ...              ...   \n",
       "1260  0.091754  0.00  0.217391  0.063098  0.333333  0.222222                0   \n",
       "1261  0.052697  0.52  0.086957  0.053537  0.333333  0.148148                0   \n",
       "1262  0.065096  0.32  0.043478  0.063098  0.333333  0.148148                0   \n",
       "1263  0.030998  1.00  0.173913  0.028043  0.222222  0.296296                0   \n",
       "1264  0.077495  0.32  0.130435  0.066284  0.333333  0.148148                0   \n",
       "\n",
       "      Kat Kaloriferi  Klimalı  Kombi Doğalgaz  Kombi Fueloil  \\\n",
       "0                  0        0               1              0   \n",
       "1                  0        0               1              0   \n",
       "2                  0        0               1              0   \n",
       "3                  0        0               1              0   \n",
       "4                  0        0               0              0   \n",
       "...              ...      ...             ...            ...   \n",
       "1260               0        0               0              0   \n",
       "1261               0        0               1              0   \n",
       "1262               0        0               1              0   \n",
       "1263               0        0               1              0   \n",
       "1264               0        0               1              0   \n",
       "\n",
       "      Merkezi (Pay Ölçer)  Merkezi Doğalgaz  Merkezi Kömür  Sobalı  \\\n",
       "0                       0                 0              0       0   \n",
       "1                       0                 0              0       0   \n",
       "2                       0                 0              0       0   \n",
       "3                       0                 0              0       0   \n",
       "4                       0                 1              0       0   \n",
       "...                   ...               ...            ...     ...   \n",
       "1260                    0                 0              0       0   \n",
       "1261                    0                 0              0       0   \n",
       "1262                    0                 0              0       0   \n",
       "1263                    0                 0              0       0   \n",
       "1264                    0                 0              0       0   \n",
       "\n",
       "      Yerden Isıtma  \n",
       "0                 0  \n",
       "1                 0  \n",
       "2                 0  \n",
       "3                 0  \n",
       "4                 0  \n",
       "...             ...  \n",
       "1260              1  \n",
       "1261              0  \n",
       "1262              0  \n",
       "1263              0  \n",
       "1264              0  \n",
       "\n",
       "[1265 rows x 16 columns]"
      ]
     },
     "execution_count": 24,
     "metadata": {},
     "output_type": "execute_result"
    }
   ],
   "source": [
    "x\n"
   ]
  },
  {
   "cell_type": "code",
   "execution_count": 25,
   "metadata": {},
   "outputs": [],
   "source": [
    "xTrain, xTest, yTrain, yTest = train_test_split(x,y,train_size=0.5,shuffle=True)"
   ]
  },
  {
   "cell_type": "code",
   "execution_count": 26,
   "metadata": {
    "scrolled": true
   },
   "outputs": [
    {
     "data": {
      "text/plain": [
       "'for i in range(1,150):\\n    knn = KNeighborsClassifier(i)\\n    knn.fit(xTrain, yTrain)\\n    yPred = knn.predict(xTest)\\n    print(accuracy_score(yTest,yPred), \" \",i,\". iterasyonda doğruluk değeri\")'"
      ]
     },
     "execution_count": 26,
     "metadata": {},
     "output_type": "execute_result"
    }
   ],
   "source": [
    "'''for i in range(1,150):\n",
    "    knn = KNeighborsClassifier(i)\n",
    "    knn.fit(xTrain, yTrain)\n",
    "    yPred = knn.predict(xTest)\n",
    "    print(accuracy_score(yTest,yPred), \" \",i,\". iterasyonda doğruluk değeri\")'''"
   ]
  },
  {
   "cell_type": "code",
   "execution_count": 27,
   "metadata": {},
   "outputs": [
    {
     "data": {
      "text/plain": [
       "'knn = KNeighborsClassifier(1)\\nknn.fit(xTrain, yTrain)'"
      ]
     },
     "execution_count": 27,
     "metadata": {},
     "output_type": "execute_result"
    }
   ],
   "source": [
    "'''knn = KNeighborsClassifier(1)\n",
    "knn.fit(xTrain, yTrain)'''"
   ]
  },
  {
   "cell_type": "code",
   "execution_count": 28,
   "metadata": {},
   "outputs": [
    {
     "data": {
      "text/plain": [
       "'yPred = knn.predict(xTest)\\nprint(yPred)\\nprint(yTest)'"
      ]
     },
     "execution_count": 28,
     "metadata": {},
     "output_type": "execute_result"
    }
   ],
   "source": [
    "'''yPred = knn.predict(xTest)\n",
    "print(yPred)\n",
    "print(yTest)'''"
   ]
  },
  {
   "cell_type": "code",
   "execution_count": 59,
   "metadata": {},
   "outputs": [
    {
     "data": {
      "text/html": [
       "<div>\n",
       "<style scoped>\n",
       "    .dataframe tbody tr th:only-of-type {\n",
       "        vertical-align: middle;\n",
       "    }\n",
       "\n",
       "    .dataframe tbody tr th {\n",
       "        vertical-align: top;\n",
       "    }\n",
       "\n",
       "    .dataframe thead th {\n",
       "        text-align: right;\n",
       "    }\n",
       "</style>\n",
       "<table border=\"1\" class=\"dataframe\">\n",
       "  <thead>\n",
       "    <tr style=\"text-align: right;\">\n",
       "      <th></th>\n",
       "      <th>1</th>\n",
       "      <th>2</th>\n",
       "      <th>3</th>\n",
       "      <th>4</th>\n",
       "      <th>8</th>\n",
       "      <th>9</th>\n",
       "      <th>10</th>\n",
       "    </tr>\n",
       "  </thead>\n",
       "  <tbody>\n",
       "    <tr>\n",
       "      <th>0</th>\n",
       "      <td>2150000</td>\n",
       "      <td>0.043397</td>\n",
       "      <td>0.32</td>\n",
       "      <td>0.173913</td>\n",
       "      <td>0.043977</td>\n",
       "      <td>0.222222</td>\n",
       "      <td>0.222222</td>\n",
       "    </tr>\n",
       "    <tr>\n",
       "      <th>1</th>\n",
       "      <td>4610000</td>\n",
       "      <td>0.161190</td>\n",
       "      <td>0.32</td>\n",
       "      <td>0.086957</td>\n",
       "      <td>0.139579</td>\n",
       "      <td>0.555556</td>\n",
       "      <td>0.148148</td>\n",
       "    </tr>\n",
       "    <tr>\n",
       "      <th>2</th>\n",
       "      <td>1200000</td>\n",
       "      <td>0.049597</td>\n",
       "      <td>0.00</td>\n",
       "      <td>0.130435</td>\n",
       "      <td>0.050351</td>\n",
       "      <td>0.333333</td>\n",
       "      <td>0.148148</td>\n",
       "    </tr>\n",
       "    <tr>\n",
       "      <th>3</th>\n",
       "      <td>800000</td>\n",
       "      <td>0.074396</td>\n",
       "      <td>0.72</td>\n",
       "      <td>0.217391</td>\n",
       "      <td>0.059911</td>\n",
       "      <td>0.222222</td>\n",
       "      <td>0.333333</td>\n",
       "    </tr>\n",
       "    <tr>\n",
       "      <th>4</th>\n",
       "      <td>1850000</td>\n",
       "      <td>0.071296</td>\n",
       "      <td>0.08</td>\n",
       "      <td>0.260870</td>\n",
       "      <td>0.072658</td>\n",
       "      <td>0.333333</td>\n",
       "      <td>0.222222</td>\n",
       "    </tr>\n",
       "    <tr>\n",
       "      <th>...</th>\n",
       "      <td>...</td>\n",
       "      <td>...</td>\n",
       "      <td>...</td>\n",
       "      <td>...</td>\n",
       "      <td>...</td>\n",
       "      <td>...</td>\n",
       "      <td>...</td>\n",
       "    </tr>\n",
       "    <tr>\n",
       "      <th>1260</th>\n",
       "      <td>2100000</td>\n",
       "      <td>0.091754</td>\n",
       "      <td>0.00</td>\n",
       "      <td>0.217391</td>\n",
       "      <td>0.063098</td>\n",
       "      <td>0.333333</td>\n",
       "      <td>0.222222</td>\n",
       "    </tr>\n",
       "    <tr>\n",
       "      <th>1261</th>\n",
       "      <td>1550000</td>\n",
       "      <td>0.052697</td>\n",
       "      <td>0.52</td>\n",
       "      <td>0.086957</td>\n",
       "      <td>0.053537</td>\n",
       "      <td>0.333333</td>\n",
       "      <td>0.148148</td>\n",
       "    </tr>\n",
       "    <tr>\n",
       "      <th>1262</th>\n",
       "      <td>2995000</td>\n",
       "      <td>0.065096</td>\n",
       "      <td>0.32</td>\n",
       "      <td>0.043478</td>\n",
       "      <td>0.063098</td>\n",
       "      <td>0.333333</td>\n",
       "      <td>0.148148</td>\n",
       "    </tr>\n",
       "    <tr>\n",
       "      <th>1263</th>\n",
       "      <td>550000</td>\n",
       "      <td>0.030998</td>\n",
       "      <td>1.00</td>\n",
       "      <td>0.173913</td>\n",
       "      <td>0.028043</td>\n",
       "      <td>0.222222</td>\n",
       "      <td>0.296296</td>\n",
       "    </tr>\n",
       "    <tr>\n",
       "      <th>1264</th>\n",
       "      <td>2490000</td>\n",
       "      <td>0.077495</td>\n",
       "      <td>0.32</td>\n",
       "      <td>0.130435</td>\n",
       "      <td>0.066284</td>\n",
       "      <td>0.333333</td>\n",
       "      <td>0.148148</td>\n",
       "    </tr>\n",
       "  </tbody>\n",
       "</table>\n",
       "<p>1265 rows × 7 columns</p>\n",
       "</div>"
      ],
      "text/plain": [
       "           1         2     3         4         8         9         10\n",
       "0     2150000  0.043397  0.32  0.173913  0.043977  0.222222  0.222222\n",
       "1     4610000  0.161190  0.32  0.086957  0.139579  0.555556  0.148148\n",
       "2     1200000  0.049597  0.00  0.130435  0.050351  0.333333  0.148148\n",
       "3      800000  0.074396  0.72  0.217391  0.059911  0.222222  0.333333\n",
       "4     1850000  0.071296  0.08  0.260870  0.072658  0.333333  0.222222\n",
       "...       ...       ...   ...       ...       ...       ...       ...\n",
       "1260  2100000  0.091754  0.00  0.217391  0.063098  0.333333  0.222222\n",
       "1261  1550000  0.052697  0.52  0.086957  0.053537  0.333333  0.148148\n",
       "1262  2995000  0.065096  0.32  0.043478  0.063098  0.333333  0.148148\n",
       "1263   550000  0.030998  1.00  0.173913  0.028043  0.222222  0.296296\n",
       "1264  2490000  0.077495  0.32  0.130435  0.066284  0.333333  0.148148\n",
       "\n",
       "[1265 rows x 7 columns]"
      ]
     },
     "execution_count": 59,
     "metadata": {},
     "output_type": "execute_result"
    }
   ],
   "source": [
    "veri"
   ]
  },
  {
   "cell_type": "code",
   "execution_count": 46,
   "metadata": {},
   "outputs": [],
   "source": [
    "xTrain, xTest, yTrain, yTest = train_test_split(x,y,train_size=0.85,shuffle=True)"
   ]
  },
  {
   "cell_type": "code",
   "execution_count": 63,
   "metadata": {},
   "outputs": [
    {
     "name": "stdout",
     "output_type": "stream",
     "text": [
      "[2150000 4610000 1200000  800000 1850000  825000 2400000  700000  620000\n",
      " 1900000 1325000  580000  460000  500000 1500000 1528000 5000000  880000\n",
      " 1700000 5300000 1490000 1250000  900000 2050000 1100000 1249000 2790000\n",
      "  735000  420000 1950000 1620000 2275000 3375000 1000000 2500000 1750000\n",
      " 6100000 4940000  595000 1300000 2100000  540000 2600000 5500000  475000\n",
      " 1150000 1310000 3750000 1550000 1720000 7150000 3600000 1410000  650000\n",
      " 1400000  850000 9850000 2280000 2200000 2950000 5580000 1320000 3200000\n",
      " 1600000 2120000  590000 2450000 4250000 1049000 1690000 4600000 3500000\n",
      " 2795000 2250000  890000  950000 1350000  410000 1450000 2750000  780000\n",
      " 3950000 1650000  630000 1580000 2800000  889000  995000 6500000 1050000\n",
      "  750000 2090000 4100000 1570000  895000 5250000 3850000 1660000 2350000\n",
      " 8000000  490000  450000 1920000  699000  820000 1099000  835000 8250000\n",
      "  570000 3300000  550000 1525000 9250000  485000 3450000 2590000 6700000\n",
      " 1475000  575000 8500000 6000000  375000 4500000 1175000 2300000 1120000\n",
      "  625000  645000 1315000 7500000  770000 1299000  979000  875000 2700000\n",
      " 1275000 1149000 1470000 1060000 2199000 1800000 1995000 1935000 1585000\n",
      " 1559000  545000 3900000 6850000 6750000 1725000  925000 6950000 2650000\n",
      " 2850000 1340000 2550000  830000 1975000  990000  935000 3000000 1625000\n",
      "  729000 1485000 2430000  860000  530000  765000 1180000 1115000  775000\n",
      " 6900000 1280000 1360000 3150000  960000  585000 1179000  395000 1730000\n",
      " 1460000  790000 4200000 2000000  695000  720000 3100000  660000 1555000\n",
      " 1509000 1377000 1430000 1195000 5200000  675000 2765000 1025000 1870000\n",
      "  840000 1165000 1760000 3279000 1500004 3250000  299000 3145000 1075000\n",
      "  665000 1527000  535000  615000  455000 2270000 1790000 1399000  520000\n",
      "  610000  898000 1499000  870000 1129000  969000  749000  710000  769000\n",
      " 1795000 1390000  975000 2980000 1330000 1130000 1540000  885000 7550000\n",
      "  760000 3650000 1230000 1885000  929000 1199000 5770000 1820000  429000\n",
      "  489000  879000  928000 6225000 1535000 1235000 3350000 2900000 4350000\n",
      " 2615000 1695000 1355000  989000  910000  680000 1425000 2379000 2210000\n",
      " 2425000 3449000 3249000 1139000  600000 2492050 5499999 1420000 2540000\n",
      " 1835000 1530000 1030000  690000 1675000 6200000 8650000 2840000 1785000\n",
      " 1825000  829000 5150000 1549000 5750000  640000  250000 3275000 1960000\n",
      " 1265000 2290000 2380000 2340000 7450000  495000 1020000 1125000 1140000\n",
      " 3490000 1270000 1290000  380000 2175000 4150000 1185000 2190000  980000\n",
      " 1670000 1370000  685000  730000 1575000 1999000 2599000  430000 1375000\n",
      "  799000 3560000 1539000 1039000  999000  705000 2060000 2569000 7250000\n",
      "  170000 1110000  985000  785000 1349000  988000  670000 1930000 2465000\n",
      " 3140000  930000 1775000 1465000 2490000 2710000 8200000 1229000  755000\n",
      " 5600000 9500000 6150000 1480000 9100000 2585000 8750000 1890000 1635000\n",
      " 2155000 2195000 1220000 1190000 1095000 2295000 2975000 4000000  659000\n",
      " 2360000 1990000 4750000 7850000 4710000 2890000 3090000 1799000 3400000\n",
      " 4950000 3175000 1605000 1590000 9200000 2680000 5999999  360000  899000\n",
      " 3590000 4050000 8320000 4125000 1702000 2075000  628000 3700000 1610000\n",
      " 1245000 4060000 1090000 1699000 1259000 1875000 2140000 5450000 2725000\n",
      " 2469000 1880000 1285000  399000 2375000  739000 3825000 6550000 3729000\n",
      " 2499000 1040000 2920000 2470000 1765000 2070000 2080000 2180000 4850000\n",
      " 4990000 1985000 2895000 1260000 1395000  350000  425000 1160000 1565000\n",
      " 1380000 2995000]\n",
      "[0.0433974  0.16119033 0.04959702 0.07439554 0.07129572 0.02789833\n",
      " 0.24178549 0.03719777 0.05579665 0.06819591 0.10849349 0.0216987\n",
      " 0.06199628 0.04029758 0.11469312 0.10539368 0.05889647 0.05269684\n",
      " 0.01363918 0.19218847 0.01549907 0.03099814 0.08679479 0.03409795\n",
      " 0.07191569 0.06509609 0.19528828 0.20458772 0.08059516 0.04463732\n",
      " 0.09547427 0.17978921 0.37817731 0.1115933  0.1549907  0.03595784\n",
      " 0.08369498 0.25108493 0.12399256 0.13019219 0.10291383 0.06757595\n",
      " 0.09919405 0.14879107 0.01859888 0.0483571  0.27464352 0.01053937\n",
      " 0.08989461 0.06881587 0.13639182 0.28518289 0.31618103 0.27898326\n",
      " 0.16491011 0.15685059 0.02975821 0.18598884 0.22318661 0.10105394\n",
      " 0.04649721 0.42715437 0.25418475 0.47117173 0.15189089 0.31928084\n",
      " 0.05951643 0.32858029 0.34717917 0.0099194  0.08183509 0.02479851\n",
      " 0.56912585 0.1983881  0.04897706 0.03967762 0.09299442 0.15127092\n",
      " 0.1016739  0.12647241 0.133292   0.05703658 0.09237446 0.00619963\n",
      " 0.11779293 0.0967142  0.07749535 0.04711717 0.41227526 0.03471792\n",
      " 0.08431494 0.97086175 0.00929944 0.0533168  0.01921885 0.01487911\n",
      " 0.14259144 0.36453813 0.0849349  0.02045877 0.17358958 0.02727836\n",
      " 0.01239926 0.16738996 0.10353379 0.1599504  0.12895226 0.00371978\n",
      " 0.14445133 0.11655301 0.00309981 0.03347799 0.05517669 0.14569126\n",
      " 0.10787353 0.42777433 0.07935524 0.09485431 0.04773714 0.54122753\n",
      " 0.06261624 0.05393676 0.03905766 0.06323621 0.07687539 0.0582765\n",
      " 0.18908865 0.01735896 0.10043397 0.0049597  0.07315561 0.06943583\n",
      " 0.05765654 0.03037818 0.09113453 0.1066336  0.07253565 0.02293862\n",
      " 0.13453193 0.0316181  0.07067576 0.09857409 0.07377557 0.1766894\n",
      " 0.01797892 0.         0.14011159 0.13949163 0.11283323 0.09423435\n",
      " 0.1283323  0.06695598 0.08245505 0.09175449 0.04215747 0.02355859\n",
      " 0.29882207 0.20148791 0.18288903 0.08307502 0.10415375 0.01611903\n",
      " 0.10725356 0.10229386 0.10973342 0.06075635 0.21078735 0.11593304\n",
      " 0.06571606 0.12275263 0.04277743 0.09981401 0.08617483 1.\n",
      " 0.07873528 0.0799752  0.22008679 0.05021699 0.56416615]\n",
      "[0.32 0.   0.72 0.08 0.04 1.   0.52 0.12 0.16]\n",
      "[0.17391304 0.08695652 0.13043478 0.2173913  0.26086957 0.30434783\n",
      " 0.04347826 0.39130435 0.60869565 0.34782609 0.47826087 0.52173913\n",
      " 0.         0.43478261 0.7826087  0.82608696 0.73913043 0.69565217\n",
      " 0.56521739 0.91304348 1.         0.86956522 0.65217391]\n",
      "[0.04397706 0.13957935 0.05035054 0.05991077 0.07265774 0.0248566\n",
      " 0.10771192 0.03760357 0.06054812 0.04079031 0.0681963  0.069471\n",
      " 0.10452518 0.15869981 0.01848311 0.08540472 0.08221797 0.05672403\n",
      " 0.0471638  0.01083493 0.01529637 0.03314213 0.02804334 0.04652645\n",
      " 0.07584449 0.04333971 0.20331421 0.03123008 0.18419375 0.0484385\n",
      " 0.06309751 0.01338432 0.05608668 0.26704908 0.06628426 0.0917782\n",
      " 0.05417463 0.1140854  0.15997451 0.03441683 0.08731676 0.0223072\n",
      " 0.08859146 0.12045889 0.06246017 0.13320586 0.02166985 0.10133843\n",
      " 0.28744423 0.01019758 0.17144678 0.09496495 0.12683238 0.29891651\n",
      " 0.09815169 0.00573614 0.16188655 0.06118547 0.15232632 0.23518164\n",
      " 0.07903123 0.05353728 0.03696622 0.27979605 0.06437221 0.33078394\n",
      " 0.03377948 0.04525175 0.14212874 0.02676864 0.14595284 0.10962396\n",
      " 0.06182282 0.13001912 0.05481198 0.1612492  0.02039516 0.08030593\n",
      " 0.16889739 0.07520714 0.03887827 0.03569152 0.03632887 1.\n",
      " 0.01210962 0.01784576 0.04907584 0.01593372 0.05544933 0.07711918\n",
      " 0.01912046 0.04142766 0.03059273 0.0943276  0.00892288 0.03505417\n",
      " 0.14913958 0.02421925 0.08604207 0.00254939 0.07839388 0.08094328\n",
      " 0.138942   0.08667941 0.02931804 0.10579987 0.07456979 0.55385596\n",
      " 0.04270236 0.05098789 0.15551307 0.1650733  0.19056724 0.\n",
      " 0.0707457  0.04206501 0.01720841 0.09241555 0.00446144 0.04971319\n",
      " 0.0458891  0.03250478 0.0930529  0.09942639 0.10834927 0.27342256\n",
      " 0.12619503 0.05799873 0.31230083 0.17272148 0.14786488 0.01147228\n",
      " 0.08285532 0.10898662 0.11089866 0.17782027 0.12364563 0.10261313\n",
      " 0.07393244 0.11854685 0.2307202  0.22243467 0.05289994]\n",
      "[0.22222222 0.55555556 0.33333333 0.11111111 0.44444444 0.66666667\n",
      " 0.88888889 0.77777778 0.         1.        ]\n",
      "[0.22222222 0.14814815 0.33333333 0.18518519 0.07407407 0.25925926\n",
      " 0.37037037 0.2962963  0.40740741 0.44444444 0.         0.48148148\n",
      " 0.62962963 0.66666667 0.7037037  0.03703704 0.55555556 0.51851852\n",
      " 0.74074074 0.59259259 1.        ]\n"
     ]
    }
   ],
   "source": [
    "print(veri[1].unique())\n",
    "print(veri[2].unique())\n",
    "print(veri[3].unique())\n",
    "print(veri[4].unique())\n",
    "print(veri[8].unique())\n",
    "print(veri[9].unique())\n",
    "print(veri[10].unique())\n"
   ]
  },
  {
   "cell_type": "code",
   "execution_count": null,
   "metadata": {},
   "outputs": [
    {
     "name": "stderr",
     "output_type": "stream",
     "text": [
      "C:\\Users\\umut6\\anaconda4\\lib\\site-packages\\sklearn\\utils\\validation.py:1673: FutureWarning: Feature names only support names that are all strings. Got feature names with dtypes: ['int', 'str']. An error will be raised in 1.2.\n",
      "  warnings.warn(\n"
     ]
    }
   ],
   "source": [
    "rf_model = RandomForestClassifier(n_estimators=1100)\n",
    "rf_model.fit(xTrain, yTrain)"
   ]
  },
  {
   "cell_type": "code",
   "execution_count": 48,
   "metadata": {},
   "outputs": [
    {
     "name": "stderr",
     "output_type": "stream",
     "text": [
      "C:\\Users\\umut6\\anaconda4\\lib\\site-packages\\sklearn\\utils\\validation.py:1673: FutureWarning: Feature names only support names that are all strings. Got feature names with dtypes: ['int', 'str']. An error will be raised in 1.2.\n",
      "  warnings.warn(\n"
     ]
    },
    {
     "data": {
      "text/plain": [
       "RandomForestClassifier(n_estimators=1100)"
      ]
     },
     "execution_count": 48,
     "metadata": {},
     "output_type": "execute_result"
    }
   ],
   "source": [
    "rf_model.fit(xTrain, yTrain)"
   ]
  },
  {
   "cell_type": "code",
   "execution_count": 49,
   "metadata": {},
   "outputs": [
    {
     "name": "stderr",
     "output_type": "stream",
     "text": [
      "C:\\Users\\umut6\\anaconda4\\lib\\site-packages\\sklearn\\utils\\validation.py:1673: FutureWarning: Feature names only support names that are all strings. Got feature names with dtypes: ['int', 'str']. An error will be raised in 1.2.\n",
      "  warnings.warn(\n"
     ]
    }
   ],
   "source": [
    "tahminler = rf_model.predict(xTest)\n",
    "testY = np.int32(yTest)\n",
    "tahminler = np.int32(tahminler)\n"
   ]
  },
  {
   "cell_type": "code",
   "execution_count": 50,
   "metadata": {},
   "outputs": [
    {
     "name": "stdout",
     "output_type": "stream",
     "text": [
      "Doğruluk Oranı: 11.578947368421053\n",
      "Doğruluk Oranı: 691905.2631578947\n"
     ]
    }
   ],
   "source": [
    "accuracy = accuracy_score(tahminler, testY)\n",
    "print(\"Doğruluk Oranı:\", accuracy*100)\n",
    "print(\"Doğruluk Oranı:\", mean_absolute_error(tahminler,testY))\n"
   ]
  },
  {
   "cell_type": "code",
   "execution_count": 51,
   "metadata": {},
   "outputs": [],
   "source": [
    "lr = LinearRegression()"
   ]
  },
  {
   "cell_type": "code",
   "execution_count": 52,
   "metadata": {},
   "outputs": [
    {
     "name": "stderr",
     "output_type": "stream",
     "text": [
      "C:\\Users\\umut6\\anaconda4\\lib\\site-packages\\sklearn\\utils\\validation.py:1673: FutureWarning: Feature names only support names that are all strings. Got feature names with dtypes: ['int', 'str']. An error will be raised in 1.2.\n",
      "  warnings.warn(\n",
      "C:\\Users\\umut6\\anaconda4\\lib\\site-packages\\sklearn\\utils\\validation.py:1673: FutureWarning: Feature names only support names that are all strings. Got feature names with dtypes: ['int', 'str']. An error will be raised in 1.2.\n",
      "  warnings.warn(\n"
     ]
    }
   ],
   "source": [
    "lr.fit(xTrain,yTrain)\n",
    "predictY = lr.predict(xTest)"
   ]
  },
  {
   "cell_type": "code",
   "execution_count": 53,
   "metadata": {},
   "outputs": [],
   "source": [
    "tahmin = np.int32(predictY)\n",
    "testY = np.int32(yTest)\n"
   ]
  },
  {
   "cell_type": "code",
   "execution_count": 54,
   "metadata": {},
   "outputs": [],
   "source": [
    "tahminY = []\n",
    "cevapY = []\n",
    "\n",
    "for i in predictY:\n",
    "    a = i\n",
    "    if (a<0):\n",
    "        a = a*-1\n",
    "    tahminY.append(a)\n",
    "for i in yTest:\n",
    "    a = i\n",
    "    cevapY.append(a)"
   ]
  },
  {
   "cell_type": "code",
   "execution_count": null,
   "metadata": {
    "scrolled": false
   },
   "outputs": [],
   "source": []
  },
  {
   "cell_type": "code",
   "execution_count": 55,
   "metadata": {
    "scrolled": true
   },
   "outputs": [
    {
     "data": {
      "text/plain": [
       "820791.9052631579"
      ]
     },
     "execution_count": 55,
     "metadata": {},
     "output_type": "execute_result"
    }
   ],
   "source": [
    "mean_absolute_error(tahmin,testY)\n"
   ]
  },
  {
   "cell_type": "code",
   "execution_count": 41,
   "metadata": {},
   "outputs": [],
   "source": [
    "b = np.int64(yTest)"
   ]
  },
  {
   "cell_type": "code",
   "execution_count": 42,
   "metadata": {},
   "outputs": [],
   "source": [
    "a = np.int64(predictY)"
   ]
  },
  {
   "cell_type": "code",
   "execution_count": 43,
   "metadata": {},
   "outputs": [],
   "source": [
    "sayaç = 0\n",
    "for i in range(len(a)):\n",
    "    c = a[i]/b[i]\n",
    "    if c > 5:\n",
    "        print(c)"
   ]
  },
  {
   "cell_type": "code",
   "execution_count": 44,
   "metadata": {},
   "outputs": [
    {
     "data": {
      "text/plain": [
       "array([ 0.8398131 ,  1.24578   ,  0.12158063,  0.95687308,  1.12016545,\n",
       "        1.04768682,  1.014237  ,  1.65451267,  2.91783853,  1.55463064,\n",
       "        1.6529008 ,  0.89725731,  2.09908329,  1.35283262,  0.50238692,\n",
       "        0.7927702 ,  1.72861392,  1.39495789,  1.25582452,  1.01853721,\n",
       "        1.18344385,  1.37186186,  1.14749633,  0.45966857,  1.59544452,\n",
       "        1.01971953,  2.89405692,  1.41042411,  1.29589524,  0.95674943,\n",
       "        0.88703944,  3.04959636,  0.64146172,  1.17421583,  0.94789783,\n",
       "        1.32608946,  1.13789959,  0.86947723,  1.93927529,  1.19349758,\n",
       "        1.92676618,  0.58109617,  0.79689213,  1.171508  ,  1.274767  ,\n",
       "        0.89438526,  0.99386649,  1.3373481 ,  1.06250887,  1.60909932,\n",
       "        0.80476087,  1.61917414,  0.92637411,  0.90548766,  1.01946353,\n",
       "        0.69803188,  1.91161091,  0.75183896,  0.56908631,  1.9025768 ,\n",
       "        1.07525011,  1.32973584,  1.24059749,  1.01885543,  0.93668531,\n",
       "        0.42802097,  0.24172347,  1.07525011,  1.92373474,  2.313578  ,\n",
       "        1.6376    ,  1.13108437,  1.20989182,  0.82759233, -0.60961899,\n",
       "        0.84107583,  0.84391783,  0.97314533,  1.97608585,  1.1893368 ,\n",
       "        0.85312833,  1.42755388,  1.59544452,  1.32421926,  1.34523458,\n",
       "        1.09112541,  1.40799706,  0.70986375,  0.9516464 ,  0.68037898,\n",
       "        1.25793282,  1.22826049,  0.94511114,  1.71719745,  0.89713509,\n",
       "        1.09585667,  1.92010829,  1.57387563,  0.82770208,  1.01809097,\n",
       "        1.18475407,  1.87983091,  1.45305172,  0.37252818,  1.4849335 ,\n",
       "        0.97852901,  1.83595038,  1.40691545,  2.21271551,  0.55068974,\n",
       "        0.96512696,  1.19802914,  0.8961615 ,  1.28523953,  0.64202171,\n",
       "        1.81010087,  2.04117284,  1.06545714,  0.53064928,  1.51162977,\n",
       "        1.12816055,  1.49970214,  1.28376444,  1.71646737,  0.88632342,\n",
       "        1.17004432,  0.92963152,  1.14816964,  1.2168462 ,  0.96325929,\n",
       "        1.17615769,  1.479313  ,  0.388736  ,  1.14623976,  0.808058  ,\n",
       "        0.66593412,  0.94775786,  0.71752068,  1.61168526,  1.21940654,\n",
       "        1.38724196,  1.43287125,  1.539248  ,  1.11768652,  2.38022564,\n",
       "        1.44354267,  1.06814717,  1.9232825 ,  0.69545284,  0.46393532,\n",
       "        0.967398  ,  0.81992743,  0.82405815,  0.97433405,  1.18876471,\n",
       "        0.70262655,  1.20644105,  0.14823882,  0.76113067,  1.70823273,\n",
       "        1.57210222,  1.12219304,  1.130052  ,  1.08842   ,  0.84043222,\n",
       "        1.46517875,  1.48363405,  1.22065714,  1.97951818,  1.30881387,\n",
       "        2.68053833,  1.08866709,  0.92738256,  0.75937671,  1.79170375,\n",
       "        1.08004105,  1.27722727,  1.04373875,  1.504213  ,  1.75949515,\n",
       "        0.94846211,  1.206501  ,  0.51632374,  0.9005696 ,  2.25467963,\n",
       "        2.68053833,  0.94432571,  0.74262083,  0.86540945,  1.7149322 ])"
      ]
     },
     "execution_count": 44,
     "metadata": {},
     "output_type": "execute_result"
    }
   ],
   "source": [
    "a/b"
   ]
  },
  {
   "cell_type": "code",
   "execution_count": 45,
   "metadata": {},
   "outputs": [],
   "source": [
    "for index,değişken in enumerate(veri[2]):\n",
    "    if değişken>1653:\n",
    "        print(index,\" \",değişken)"
   ]
  },
  {
   "cell_type": "code",
   "execution_count": null,
   "metadata": {},
   "outputs": [],
   "source": []
  }
 ],
 "metadata": {
  "kernelspec": {
   "display_name": "Python 3 (ipykernel)",
   "language": "python",
   "name": "python3"
  },
  "language_info": {
   "codemirror_mode": {
    "name": "ipython",
    "version": 3
   },
   "file_extension": ".py",
   "mimetype": "text/x-python",
   "name": "python",
   "nbconvert_exporter": "python",
   "pygments_lexer": "ipython3",
   "version": "3.9.12"
  },
  "vscode": {
   "interpreter": {
    "hash": "7797006c905ada28097d3a18a9d5831bdf6f7cedac95eb8fe18903a34d9e5691"
   }
  }
 },
 "nbformat": 4,
 "nbformat_minor": 2
}
